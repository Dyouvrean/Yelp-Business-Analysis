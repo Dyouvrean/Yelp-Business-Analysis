{
 "cells": [
  {
   "cell_type": "code",
   "execution_count": 1,
   "metadata": {},
   "outputs": [],
   "source": [
    "import sqlite3\n",
    "import pandas as pd\n",
    "import numpy as np\n",
    "import json\n",
    "import matplotlib.pyplot as plt\n",
    "from transformers import BertTokenizer, BertForTokenClassification\n",
    "from transformers import pipeline"
   ]
  },
  {
   "cell_type": "code",
   "execution_count": 2,
   "metadata": {},
   "outputs": [],
   "source": [
    "conn = sqlite3.connect('yelp_dataset_reviews.db') \n",
    "df_reviews= pd.read_sql(\"\"\"SELECT * FROM reviews\"\"\",conn )\n",
    "conn.close()"
   ]
  },
  {
   "cell_type": "code",
   "execution_count": 3,
   "metadata": {},
   "outputs": [],
   "source": [
    "conn = sqlite3.connect('yelp_dataset_business.db') \n",
    "df_business= pd.read_sql(\"\"\"SELECT business_id,name,stars,review_count,is_open,city\n",
    "                        FROM business\"\"\",\n",
    "                        conn )\n",
    "\n",
    "conn.close()"
   ]
  },
  {
   "cell_type": "code",
   "execution_count": 4,
   "metadata": {},
   "outputs": [],
   "source": [
    "conn = sqlite3.connect('yelp_dataset_tips.db') \n",
    "df_tips= pd.read_sql(\"\"\"SELECT * FROM tips\"\"\",conn )\n",
    "conn.close()"
   ]
  },
  {
   "cell_type": "code",
   "execution_count": 5,
   "metadata": {},
   "outputs": [],
   "source": [
    "df_reviews = df_reviews[[\"business_id\",\"text\"]]"
   ]
  },
  {
   "cell_type": "code",
   "execution_count": 6,
   "metadata": {},
   "outputs": [
    {
     "data": {
      "text/plain": [
       "\"Wow!  Yummy, different,  delicious.   Our favorite is the lamb curry and korma.  With 10 different kinds of naan!!!  Don't let the outside deter you (because we almost changed our minds)...go in and try something new!   You'll be glad you did!\""
      ]
     },
     "execution_count": 6,
     "metadata": {},
     "output_type": "execute_result"
    }
   ],
   "source": [
    "df_reviews[\"text\"][3]"
   ]
  },
  {
   "cell_type": "markdown",
   "metadata": {},
   "source": [
    "# Approach 1 : LLAMA2"
   ]
  },
  {
   "cell_type": "code",
   "execution_count": 20,
   "metadata": {},
   "outputs": [],
   "source": [
    "import replicate\n",
    "import os"
   ]
  },
  {
   "cell_type": "code",
   "execution_count": 21,
   "metadata": {},
   "outputs": [],
   "source": [
    "replicate = replicate.Client(api_token=os.getenv(\"REPLICATE_API_TOKEN\"))"
   ]
  },
  {
   "cell_type": "code",
   "execution_count": 46,
   "metadata": {},
   "outputs": [
    {
     "name": "stdout",
     "output_type": "stream",
     "text": [
      "<generator object Prediction.output_iterator at 0x00000212356C52A0>\n"
     ]
    }
   ],
   "source": [
    "output = replicate.run(\n",
    "  \"meta/llama-2-70b-chat:02e509c789964a7ea8736978a43525956ef40397be9033abf9fd2badfe68c9e3\",\n",
    "  input={\n",
    "    \"prompt\": \"Family diner. Had the buffet. Eclectic assortment: a large chicken leg, fried jalapeño, tamale, two rolled grape leaves, fresh melon. All good. Lots of Mexican choices there. Also has a menu with breakfast served all day long. Friendly, attentive staff. Good place for a casual relaxed meal with no expectations. Next to the Clarion Hotel.Identify and list all the dish names mentioned in this review\"\n",
    "  }\n",
    ")\n",
    "print(output)"
   ]
  },
  {
   "cell_type": "code",
   "execution_count": 47,
   "metadata": {},
   "outputs": [
    {
     "name": "stdout",
     "output_type": "stream",
     "text": [
      " Sure! Here are the dish names mentioned in the review:\n",
      "\n",
      "* Large chicken leg\n",
      "* Fried jalapeño\n",
      "* Tamale\n",
      "* Rolled grape leaves (2)\n",
      "* Fresh melon"
     ]
    }
   ],
   "source": [
    "for i in output:\n",
    "    print(i,end=\"\")"
   ]
  },
  {
   "cell_type": "markdown",
   "metadata": {},
   "source": [
    "# Approach 2: count n-gram"
   ]
  },
  {
   "cell_type": "code",
   "execution_count": 7,
   "metadata": {},
   "outputs": [
    {
     "name": "stderr",
     "output_type": "stream",
     "text": [
      "[nltk_data] Downloading package vader_lexicon to\n",
      "[nltk_data]     C:\\Users\\dry19\\AppData\\Roaming\\nltk_data...\n",
      "[nltk_data]   Package vader_lexicon is already up-to-date!\n",
      "[nltk_data] Downloading package punkt to\n",
      "[nltk_data]     C:\\Users\\dry19\\AppData\\Roaming\\nltk_data...\n",
      "[nltk_data]   Package punkt is already up-to-date!\n"
     ]
    }
   ],
   "source": [
    "import re\n",
    "import nltk\n",
    "from nltk.sentiment.vader import SentimentIntensityAnalyzer as sia\n",
    "from tqdm.notebook import tqdm\n",
    "from wordcloud import WordCloud, STOPWORDS \n",
    "import string\n",
    "from nltk.util import ngrams\n",
    "from nltk.tokenize import word_tokenize\n",
    "from collections import Counter\n",
    "nltk.download('vader_lexicon')\n",
    "nltk.download('punkt')\n",
    "sid =sia()\n"
   ]
  },
  {
   "cell_type": "code",
   "execution_count": 64,
   "metadata": {},
   "outputs": [
    {
     "data": {
      "text/html": [
       "<div>\n",
       "<style scoped>\n",
       "    .dataframe tbody tr th:only-of-type {\n",
       "        vertical-align: middle;\n",
       "    }\n",
       "\n",
       "    .dataframe tbody tr th {\n",
       "        vertical-align: top;\n",
       "    }\n",
       "\n",
       "    .dataframe thead th {\n",
       "        text-align: right;\n",
       "    }\n",
       "</style>\n",
       "<table border=\"1\" class=\"dataframe\">\n",
       "  <thead>\n",
       "    <tr style=\"text-align: right;\">\n",
       "      <th></th>\n",
       "      <th>business_id</th>\n",
       "      <th>text</th>\n",
       "    </tr>\n",
       "  </thead>\n",
       "  <tbody>\n",
       "    <tr>\n",
       "      <th>0</th>\n",
       "      <td>XQfwVwDr-v0ZS3_CbbE5Xw</td>\n",
       "      <td>If you decide to eat here, just be aware it is...</td>\n",
       "    </tr>\n",
       "    <tr>\n",
       "      <th>1</th>\n",
       "      <td>7ATYjTIgM3jUlt4UM3IypQ</td>\n",
       "      <td>I've taken a lot of spin classes over the year...</td>\n",
       "    </tr>\n",
       "    <tr>\n",
       "      <th>2</th>\n",
       "      <td>YjUWPpI6HXG530lwP-fb2A</td>\n",
       "      <td>Family diner. Had the buffet. Eclectic assortm...</td>\n",
       "    </tr>\n",
       "    <tr>\n",
       "      <th>3</th>\n",
       "      <td>kxX2SOes4o-D3ZQBkiMRfA</td>\n",
       "      <td>Wow!  Yummy, different,  delicious.   Our favo...</td>\n",
       "    </tr>\n",
       "    <tr>\n",
       "      <th>4</th>\n",
       "      <td>e4Vwtrqf-wpJfwesgvdgxQ</td>\n",
       "      <td>Cute interior and owner (?) gave us tour of up...</td>\n",
       "    </tr>\n",
       "    <tr>\n",
       "      <th>...</th>\n",
       "      <td>...</td>\n",
       "      <td>...</td>\n",
       "    </tr>\n",
       "    <tr>\n",
       "      <th>6990275</th>\n",
       "      <td>jals67o91gcrD4DC81Vk6w</td>\n",
       "      <td>Latest addition to services from ICCU is Apple...</td>\n",
       "    </tr>\n",
       "    <tr>\n",
       "      <th>6990276</th>\n",
       "      <td>2vLksaMmSEcGbjI5gywpZA</td>\n",
       "      <td>This spot offers a great, affordable east week...</td>\n",
       "    </tr>\n",
       "    <tr>\n",
       "      <th>6990277</th>\n",
       "      <td>R1khUUxidqfaJmcpmGd4aw</td>\n",
       "      <td>This Home Depot won me over when I needed to g...</td>\n",
       "    </tr>\n",
       "    <tr>\n",
       "      <th>6990278</th>\n",
       "      <td>Rr9kKArrMhSLVE9a53q-aA</td>\n",
       "      <td>For when I'm feeling like ignoring my calorie-...</td>\n",
       "    </tr>\n",
       "    <tr>\n",
       "      <th>6990279</th>\n",
       "      <td>VAeEXLbEcI9Emt9KGYq9aA</td>\n",
       "      <td>Located in the 'Walking District' in Nashville...</td>\n",
       "    </tr>\n",
       "  </tbody>\n",
       "</table>\n",
       "<p>6990280 rows × 2 columns</p>\n",
       "</div>"
      ],
      "text/plain": [
       "                    business_id  \\\n",
       "0        XQfwVwDr-v0ZS3_CbbE5Xw   \n",
       "1        7ATYjTIgM3jUlt4UM3IypQ   \n",
       "2        YjUWPpI6HXG530lwP-fb2A   \n",
       "3        kxX2SOes4o-D3ZQBkiMRfA   \n",
       "4        e4Vwtrqf-wpJfwesgvdgxQ   \n",
       "...                         ...   \n",
       "6990275  jals67o91gcrD4DC81Vk6w   \n",
       "6990276  2vLksaMmSEcGbjI5gywpZA   \n",
       "6990277  R1khUUxidqfaJmcpmGd4aw   \n",
       "6990278  Rr9kKArrMhSLVE9a53q-aA   \n",
       "6990279  VAeEXLbEcI9Emt9KGYq9aA   \n",
       "\n",
       "                                                      text  \n",
       "0        If you decide to eat here, just be aware it is...  \n",
       "1        I've taken a lot of spin classes over the year...  \n",
       "2        Family diner. Had the buffet. Eclectic assortm...  \n",
       "3        Wow!  Yummy, different,  delicious.   Our favo...  \n",
       "4        Cute interior and owner (?) gave us tour of up...  \n",
       "...                                                    ...  \n",
       "6990275  Latest addition to services from ICCU is Apple...  \n",
       "6990276  This spot offers a great, affordable east week...  \n",
       "6990277  This Home Depot won me over when I needed to g...  \n",
       "6990278  For when I'm feeling like ignoring my calorie-...  \n",
       "6990279  Located in the 'Walking District' in Nashville...  \n",
       "\n",
       "[6990280 rows x 2 columns]"
      ]
     },
     "execution_count": 64,
     "metadata": {},
     "output_type": "execute_result"
    }
   ],
   "source": [
    "df_reviews"
   ]
  },
  {
   "cell_type": "code",
   "execution_count": 65,
   "metadata": {},
   "outputs": [],
   "source": [
    "# df_reviews = df_reviews.groupby('business_id')['text'].agg(list).reset_index()"
   ]
  },
  {
   "cell_type": "code",
   "execution_count": 8,
   "metadata": {},
   "outputs": [],
   "source": [
    "df_selected = df_business[(df_business['stars'] >=4) & (df_business['review_count'] >= 1000)].sort_values(by=['city'], ascending=False)"
   ]
  },
  {
   "cell_type": "code",
   "execution_count": 9,
   "metadata": {},
   "outputs": [],
   "source": [
    "selected = df_selected.iloc[0,:].business_id"
   ]
  },
  {
   "cell_type": "code",
   "execution_count": 12,
   "metadata": {},
   "outputs": [
    {
     "data": {
      "text/html": [
       "<div>\n",
       "<style scoped>\n",
       "    .dataframe tbody tr th:only-of-type {\n",
       "        vertical-align: middle;\n",
       "    }\n",
       "\n",
       "    .dataframe tbody tr th {\n",
       "        vertical-align: top;\n",
       "    }\n",
       "\n",
       "    .dataframe thead th {\n",
       "        text-align: right;\n",
       "    }\n",
       "</style>\n",
       "<table border=\"1\" class=\"dataframe\">\n",
       "  <thead>\n",
       "    <tr style=\"text-align: right;\">\n",
       "      <th></th>\n",
       "      <th>business_id</th>\n",
       "      <th>text</th>\n",
       "    </tr>\n",
       "  </thead>\n",
       "  <tbody>\n",
       "    <tr>\n",
       "      <th>716760</th>\n",
       "      <td>WSx9-iYYyST_umny9sJBFg</td>\n",
       "      <td>I love what they have done with the space and ...</td>\n",
       "    </tr>\n",
       "    <tr>\n",
       "      <th>717408</th>\n",
       "      <td>WSx9-iYYyST_umny9sJBFg</td>\n",
       "      <td>Two friends and I stopped by The Parish tonigh...</td>\n",
       "    </tr>\n",
       "    <tr>\n",
       "      <th>717651</th>\n",
       "      <td>WSx9-iYYyST_umny9sJBFg</td>\n",
       "      <td>The Parish is amazing!  Amazing people!  Amazi...</td>\n",
       "    </tr>\n",
       "    <tr>\n",
       "      <th>717874</th>\n",
       "      <td>WSx9-iYYyST_umny9sJBFg</td>\n",
       "      <td>Great view of the Catalinas; especially when i...</td>\n",
       "    </tr>\n",
       "    <tr>\n",
       "      <th>718791</th>\n",
       "      <td>WSx9-iYYyST_umny9sJBFg</td>\n",
       "      <td>While the outside of the restaurant is very un...</td>\n",
       "    </tr>\n",
       "    <tr>\n",
       "      <th>...</th>\n",
       "      <td>...</td>\n",
       "      <td>...</td>\n",
       "    </tr>\n",
       "    <tr>\n",
       "      <th>1415119</th>\n",
       "      <td>WSx9-iYYyST_umny9sJBFg</td>\n",
       "      <td>I KNOW I KNOW only 2 stars.  I honestly feel t...</td>\n",
       "    </tr>\n",
       "    <tr>\n",
       "      <th>1415956</th>\n",
       "      <td>WSx9-iYYyST_umny9sJBFg</td>\n",
       "      <td>Great food. You will not be disappointed! They...</td>\n",
       "    </tr>\n",
       "    <tr>\n",
       "      <th>1416429</th>\n",
       "      <td>WSx9-iYYyST_umny9sJBFg</td>\n",
       "      <td>Just awesome food and wait staff very attentiv...</td>\n",
       "    </tr>\n",
       "    <tr>\n",
       "      <th>1416759</th>\n",
       "      <td>WSx9-iYYyST_umny9sJBFg</td>\n",
       "      <td>What a great, funky atmosphere with innovative...</td>\n",
       "    </tr>\n",
       "    <tr>\n",
       "      <th>1416889</th>\n",
       "      <td>WSx9-iYYyST_umny9sJBFg</td>\n",
       "      <td>We were disappointed in this place. There's a ...</td>\n",
       "    </tr>\n",
       "  </tbody>\n",
       "</table>\n",
       "<p>1253 rows × 2 columns</p>\n",
       "</div>"
      ],
      "text/plain": [
       "                    business_id  \\\n",
       "716760   WSx9-iYYyST_umny9sJBFg   \n",
       "717408   WSx9-iYYyST_umny9sJBFg   \n",
       "717651   WSx9-iYYyST_umny9sJBFg   \n",
       "717874   WSx9-iYYyST_umny9sJBFg   \n",
       "718791   WSx9-iYYyST_umny9sJBFg   \n",
       "...                         ...   \n",
       "1415119  WSx9-iYYyST_umny9sJBFg   \n",
       "1415956  WSx9-iYYyST_umny9sJBFg   \n",
       "1416429  WSx9-iYYyST_umny9sJBFg   \n",
       "1416759  WSx9-iYYyST_umny9sJBFg   \n",
       "1416889  WSx9-iYYyST_umny9sJBFg   \n",
       "\n",
       "                                                      text  \n",
       "716760   I love what they have done with the space and ...  \n",
       "717408   Two friends and I stopped by The Parish tonigh...  \n",
       "717651   The Parish is amazing!  Amazing people!  Amazi...  \n",
       "717874   Great view of the Catalinas; especially when i...  \n",
       "718791   While the outside of the restaurant is very un...  \n",
       "...                                                    ...  \n",
       "1415119  I KNOW I KNOW only 2 stars.  I honestly feel t...  \n",
       "1415956  Great food. You will not be disappointed! They...  \n",
       "1416429  Just awesome food and wait staff very attentiv...  \n",
       "1416759  What a great, funky atmosphere with innovative...  \n",
       "1416889  We were disappointed in this place. There's a ...  \n",
       "\n",
       "[1253 rows x 2 columns]"
      ]
     },
     "execution_count": 12,
     "metadata": {},
     "output_type": "execute_result"
    }
   ],
   "source": [
    "s_review = df_reviews[df_reviews.business_id== selected]\n",
    "s_review"
   ]
  },
  {
   "cell_type": "code",
   "execution_count": 13,
   "metadata": {},
   "outputs": [
    {
     "name": "stderr",
     "output_type": "stream",
     "text": [
      "C:\\Users\\dry19\\AppData\\Local\\Temp\\ipykernel_16496\\1704820697.py:1: SettingWithCopyWarning: \n",
      "A value is trying to be set on a copy of a slice from a DataFrame.\n",
      "Try using .loc[row_indexer,col_indexer] = value instead\n",
      "\n",
      "See the caveats in the documentation: https://pandas.pydata.org/pandas-docs/stable/user_guide/indexing.html#returning-a-view-versus-a-copy\n",
      "  s_review[\"sia\"] = s_review['text'].apply(sid.polarity_scores)\n"
     ]
    }
   ],
   "source": [
    "s_review[\"sia\"] = s_review['text'].apply(sid.polarity_scores)"
   ]
  },
  {
   "cell_type": "code",
   "execution_count": 14,
   "metadata": {},
   "outputs": [
    {
     "data": {
      "text/html": [
       "<div>\n",
       "<style scoped>\n",
       "    .dataframe tbody tr th:only-of-type {\n",
       "        vertical-align: middle;\n",
       "    }\n",
       "\n",
       "    .dataframe tbody tr th {\n",
       "        vertical-align: top;\n",
       "    }\n",
       "\n",
       "    .dataframe thead th {\n",
       "        text-align: right;\n",
       "    }\n",
       "</style>\n",
       "<table border=\"1\" class=\"dataframe\">\n",
       "  <thead>\n",
       "    <tr style=\"text-align: right;\">\n",
       "      <th></th>\n",
       "      <th>business_id</th>\n",
       "      <th>text</th>\n",
       "      <th>sia</th>\n",
       "    </tr>\n",
       "  </thead>\n",
       "  <tbody>\n",
       "    <tr>\n",
       "      <th>716760</th>\n",
       "      <td>WSx9-iYYyST_umny9sJBFg</td>\n",
       "      <td>I love what they have done with the space and ...</td>\n",
       "      <td>{'neg': 0.026, 'neu': 0.658, 'pos': 0.316, 'co...</td>\n",
       "    </tr>\n",
       "    <tr>\n",
       "      <th>717408</th>\n",
       "      <td>WSx9-iYYyST_umny9sJBFg</td>\n",
       "      <td>Two friends and I stopped by The Parish tonigh...</td>\n",
       "      <td>{'neg': 0.023, 'neu': 0.83, 'pos': 0.147, 'com...</td>\n",
       "    </tr>\n",
       "    <tr>\n",
       "      <th>717651</th>\n",
       "      <td>WSx9-iYYyST_umny9sJBFg</td>\n",
       "      <td>The Parish is amazing!  Amazing people!  Amazi...</td>\n",
       "      <td>{'neg': 0.0, 'neu': 0.548, 'pos': 0.452, 'comp...</td>\n",
       "    </tr>\n",
       "    <tr>\n",
       "      <th>717874</th>\n",
       "      <td>WSx9-iYYyST_umny9sJBFg</td>\n",
       "      <td>Great view of the Catalinas; especially when i...</td>\n",
       "      <td>{'neg': 0.073, 'neu': 0.51, 'pos': 0.417, 'com...</td>\n",
       "    </tr>\n",
       "    <tr>\n",
       "      <th>718791</th>\n",
       "      <td>WSx9-iYYyST_umny9sJBFg</td>\n",
       "      <td>While the outside of the restaurant is very un...</td>\n",
       "      <td>{'neg': 0.077, 'neu': 0.826, 'pos': 0.097, 'co...</td>\n",
       "    </tr>\n",
       "    <tr>\n",
       "      <th>...</th>\n",
       "      <td>...</td>\n",
       "      <td>...</td>\n",
       "      <td>...</td>\n",
       "    </tr>\n",
       "    <tr>\n",
       "      <th>1415119</th>\n",
       "      <td>WSx9-iYYyST_umny9sJBFg</td>\n",
       "      <td>I KNOW I KNOW only 2 stars.  I honestly feel t...</td>\n",
       "      <td>{'neg': 0.043, 'neu': 0.843, 'pos': 0.114, 'co...</td>\n",
       "    </tr>\n",
       "    <tr>\n",
       "      <th>1415956</th>\n",
       "      <td>WSx9-iYYyST_umny9sJBFg</td>\n",
       "      <td>Great food. You will not be disappointed! They...</td>\n",
       "      <td>{'neg': 0.0, 'neu': 0.45, 'pos': 0.55, 'compou...</td>\n",
       "    </tr>\n",
       "    <tr>\n",
       "      <th>1416429</th>\n",
       "      <td>WSx9-iYYyST_umny9sJBFg</td>\n",
       "      <td>Just awesome food and wait staff very attentiv...</td>\n",
       "      <td>{'neg': 0.026, 'neu': 0.59, 'pos': 0.384, 'com...</td>\n",
       "    </tr>\n",
       "    <tr>\n",
       "      <th>1416759</th>\n",
       "      <td>WSx9-iYYyST_umny9sJBFg</td>\n",
       "      <td>What a great, funky atmosphere with innovative...</td>\n",
       "      <td>{'neg': 0.037, 'neu': 0.786, 'pos': 0.177, 'co...</td>\n",
       "    </tr>\n",
       "    <tr>\n",
       "      <th>1416889</th>\n",
       "      <td>WSx9-iYYyST_umny9sJBFg</td>\n",
       "      <td>We were disappointed in this place. There's a ...</td>\n",
       "      <td>{'neg': 0.097, 'neu': 0.802, 'pos': 0.1, 'comp...</td>\n",
       "    </tr>\n",
       "  </tbody>\n",
       "</table>\n",
       "<p>1253 rows × 3 columns</p>\n",
       "</div>"
      ],
      "text/plain": [
       "                    business_id  \\\n",
       "716760   WSx9-iYYyST_umny9sJBFg   \n",
       "717408   WSx9-iYYyST_umny9sJBFg   \n",
       "717651   WSx9-iYYyST_umny9sJBFg   \n",
       "717874   WSx9-iYYyST_umny9sJBFg   \n",
       "718791   WSx9-iYYyST_umny9sJBFg   \n",
       "...                         ...   \n",
       "1415119  WSx9-iYYyST_umny9sJBFg   \n",
       "1415956  WSx9-iYYyST_umny9sJBFg   \n",
       "1416429  WSx9-iYYyST_umny9sJBFg   \n",
       "1416759  WSx9-iYYyST_umny9sJBFg   \n",
       "1416889  WSx9-iYYyST_umny9sJBFg   \n",
       "\n",
       "                                                      text  \\\n",
       "716760   I love what they have done with the space and ...   \n",
       "717408   Two friends and I stopped by The Parish tonigh...   \n",
       "717651   The Parish is amazing!  Amazing people!  Amazi...   \n",
       "717874   Great view of the Catalinas; especially when i...   \n",
       "718791   While the outside of the restaurant is very un...   \n",
       "...                                                    ...   \n",
       "1415119  I KNOW I KNOW only 2 stars.  I honestly feel t...   \n",
       "1415956  Great food. You will not be disappointed! They...   \n",
       "1416429  Just awesome food and wait staff very attentiv...   \n",
       "1416759  What a great, funky atmosphere with innovative...   \n",
       "1416889  We were disappointed in this place. There's a ...   \n",
       "\n",
       "                                                       sia  \n",
       "716760   {'neg': 0.026, 'neu': 0.658, 'pos': 0.316, 'co...  \n",
       "717408   {'neg': 0.023, 'neu': 0.83, 'pos': 0.147, 'com...  \n",
       "717651   {'neg': 0.0, 'neu': 0.548, 'pos': 0.452, 'comp...  \n",
       "717874   {'neg': 0.073, 'neu': 0.51, 'pos': 0.417, 'com...  \n",
       "718791   {'neg': 0.077, 'neu': 0.826, 'pos': 0.097, 'co...  \n",
       "...                                                    ...  \n",
       "1415119  {'neg': 0.043, 'neu': 0.843, 'pos': 0.114, 'co...  \n",
       "1415956  {'neg': 0.0, 'neu': 0.45, 'pos': 0.55, 'compou...  \n",
       "1416429  {'neg': 0.026, 'neu': 0.59, 'pos': 0.384, 'com...  \n",
       "1416759  {'neg': 0.037, 'neu': 0.786, 'pos': 0.177, 'co...  \n",
       "1416889  {'neg': 0.097, 'neu': 0.802, 'pos': 0.1, 'comp...  \n",
       "\n",
       "[1253 rows x 3 columns]"
      ]
     },
     "execution_count": 14,
     "metadata": {},
     "output_type": "execute_result"
    }
   ],
   "source": [
    "s_review"
   ]
  },
  {
   "cell_type": "code",
   "execution_count": 15,
   "metadata": {},
   "outputs": [],
   "source": [
    "i = nltk.corpus.stopwords.words('english')\n",
    "# punctuations to remove\n",
    "j = list(string.punctuation)\n",
    "# finally let's combine all of these\n",
    "stopwords = set(i).union(j)"
   ]
  },
  {
   "cell_type": "code",
   "execution_count": 16,
   "metadata": {},
   "outputs": [],
   "source": [
    "def preprocess(x):\n",
    "    x = re.sub('[^a-z\\s]', '', x.lower())                  # get rid of noise\n",
    "    x = [w for w in x.split() if w not in set(stopwords)]  # remove stopwords\n",
    "    return ' '.join(x) "
   ]
  },
  {
   "cell_type": "code",
   "execution_count": 17,
   "metadata": {},
   "outputs": [
    {
     "name": "stderr",
     "output_type": "stream",
     "text": [
      "C:\\Users\\dry19\\AppData\\Local\\Temp\\ipykernel_16496\\2973342941.py:1: SettingWithCopyWarning: \n",
      "A value is trying to be set on a copy of a slice from a DataFrame.\n",
      "Try using .loc[row_indexer,col_indexer] = value instead\n",
      "\n",
      "See the caveats in the documentation: https://pandas.pydata.org/pandas-docs/stable/user_guide/indexing.html#returning-a-view-versus-a-copy\n",
      "  s_review[\"c_rev\"] = s_review[\"text\"].apply(preprocess)\n"
     ]
    }
   ],
   "source": [
    "s_review[\"c_rev\"] = s_review[\"text\"].apply(preprocess)"
   ]
  },
  {
   "cell_type": "code",
   "execution_count": 18,
   "metadata": {},
   "outputs": [],
   "source": [
    "\n",
    "texts = s_review[\"c_rev\"].to_list()\n",
    "\n",
    "bigram_lst = []\n",
    "trigram_lst =[]\n",
    "for text in texts:\n",
    "    tokens = word_tokenize(text)\n",
    "    bigrams = ngrams(tokens, 2)\n",
    "    trigrams = ngrams(tokens, 3)\n",
    "    for i in bigrams:\n",
    "        bigram_lst.append(\" \".join(i))\n",
    "    for i in trigrams:\n",
    "        trigram_lst.append(\" \".join(i))\n",
    "\n",
    "bigram_count = Counter(bigram_lst)\n",
    "trigram_count = Counter(trigram_lst)\n",
    "# # Display the counts\n",
    "# for bigram, count in bigram_count.items():\n",
    "#     print(f\"Bigram: {bigram}, Count: {count}\")"
   ]
  },
  {
   "cell_type": "code",
   "execution_count": 19,
   "metadata": {},
   "outputs": [],
   "source": [
    "top_bi= bigram_count.most_common(10)"
   ]
  },
  {
   "cell_type": "code",
   "execution_count": 20,
   "metadata": {},
   "outputs": [
    {
     "data": {
      "text/plain": [
       "[('drunken angel', 204),\n",
       " ('hush puppies', 192),\n",
       " ('bacon popcorn', 188),\n",
       " ('frog legs', 129),\n",
       " ('shrimp grits', 122),\n",
       " ('fish chips', 117),\n",
       " ('bread pudding', 85),\n",
       " ('new orleans', 79),\n",
       " ('great food', 76),\n",
       " ('angel pasta', 74)]"
      ]
     },
     "execution_count": 20,
     "metadata": {},
     "output_type": "execute_result"
    }
   ],
   "source": [
    "top_bi"
   ]
  },
  {
   "cell_type": "code",
   "execution_count": 21,
   "metadata": {},
   "outputs": [],
   "source": [
    "top_tri = trigram_count.most_common(10)"
   ]
  },
  {
   "cell_type": "code",
   "execution_count": 22,
   "metadata": {},
   "outputs": [
    {
     "data": {
      "text/plain": [
       "[('drunken angel pasta', 67),\n",
       " ('pulled pork sandwich', 29),\n",
       " ('angel hair pasta', 28),\n",
       " ('wait go back', 24),\n",
       " ('red beans rice', 24),\n",
       " ('cant wait go', 21),\n",
       " ('goat cheese relleno', 21),\n",
       " ('gumbo hush puppies', 21),\n",
       " ('shrimp po boy', 21),\n",
       " ('crawfish hush puppies', 20)]"
      ]
     },
     "execution_count": 22,
     "metadata": {},
     "output_type": "execute_result"
    }
   ],
   "source": [
    "top_tri"
   ]
  },
  {
   "cell_type": "markdown",
   "metadata": {},
   "source": [
    "## combine bigram and trigram"
   ]
  },
  {
   "cell_type": "code",
   "execution_count": 23,
   "metadata": {},
   "outputs": [],
   "source": [
    "def is_substring(substring, string_list):\n",
    "    for string in string_list:\n",
    "        if substring in string[0]:\n",
    "            return True\n",
    "    return False"
   ]
  },
  {
   "cell_type": "code",
   "execution_count": 24,
   "metadata": {},
   "outputs": [],
   "source": [
    "exist =[]\n",
    "for bi in top_bi:\n",
    "    if not is_substring(bi[0],top_tri):\n",
    "        exist.append(bi)\n",
    "\n"
   ]
  },
  {
   "cell_type": "code",
   "execution_count": 25,
   "metadata": {},
   "outputs": [],
   "source": [
    "exist.extend(top_tri)"
   ]
  },
  {
   "cell_type": "code",
   "execution_count": 26,
   "metadata": {},
   "outputs": [
    {
     "data": {
      "text/plain": [
       "[('bacon popcorn', 188),\n",
       " ('frog legs', 129),\n",
       " ('shrimp grits', 122),\n",
       " ('fish chips', 117),\n",
       " ('bread pudding', 85),\n",
       " ('new orleans', 79),\n",
       " ('great food', 76),\n",
       " ('drunken angel pasta', 67),\n",
       " ('pulled pork sandwich', 29),\n",
       " ('angel hair pasta', 28),\n",
       " ('wait go back', 24),\n",
       " ('red beans rice', 24),\n",
       " ('cant wait go', 21),\n",
       " ('goat cheese relleno', 21),\n",
       " ('gumbo hush puppies', 21),\n",
       " ('shrimp po boy', 21),\n",
       " ('crawfish hush puppies', 20)]"
      ]
     },
     "execution_count": 26,
     "metadata": {},
     "output_type": "execute_result"
    }
   ],
   "source": [
    "exist"
   ]
  },
  {
   "cell_type": "markdown",
   "metadata": {},
   "source": [
    "## word cloud"
   ]
  },
  {
   "cell_type": "code",
   "execution_count": 77,
   "metadata": {},
   "outputs": [],
   "source": [
    "def draw_wc(review,name):\n",
    "    wc = WordCloud(width=1600, height=800, random_state=1, max_words=200000000)\n",
    "    wc.generate(str(review))\n",
    "    plt.figure(figsize=(20,10), facecolor='k')\n",
    "    plt.title(\"Customers reviews about {}\".format(name), fontsize=40,color='white')\n",
    "    plt.imshow(wc, interpolation='bilinear')\n",
    "    plt.axis('off')\n",
    "    plt.tight_layout(pad=10)\n",
    "    plt.show()\n",
    "    "
   ]
  },
  {
   "cell_type": "code",
   "execution_count": null,
   "metadata": {},
   "outputs": [],
   "source": [
    "draw_wc(s_review['c_rev'],\"restruant\")"
   ]
  },
  {
   "cell_type": "markdown",
   "metadata": {},
   "source": [
    "# Approach 3: Word2vec"
   ]
  },
  {
   "cell_type": "code",
   "execution_count": 157,
   "metadata": {},
   "outputs": [],
   "source": [
    "import gensim"
   ]
  },
  {
   "cell_type": "code",
   "execution_count": 156,
   "metadata": {},
   "outputs": [],
   "source": [
    "tokens = df_reviews[\"text\"][:100000].apply(word_tokenize)"
   ]
  },
  {
   "cell_type": "code",
   "execution_count": null,
   "metadata": {},
   "outputs": [],
   "source": [
    "model = gensim.models.Word2Vec.load(\"word2vec.model\")"
   ]
  },
  {
   "cell_type": "code",
   "execution_count": 158,
   "metadata": {},
   "outputs": [
    {
     "data": {
      "text/plain": [
       "(83514517, 116264150)"
      ]
     },
     "execution_count": 158,
     "metadata": {},
     "output_type": "execute_result"
    }
   ],
   "source": [
    "# model = gensim.models.Word2Vec(tokens, vector_size=150, window=10, min_count=3, workers=10)\n",
    "# model.train(tokens,total_examples=len(tokens),epochs=10)"
   ]
  },
  {
   "cell_type": "code",
   "execution_count": 159,
   "metadata": {},
   "outputs": [],
   "source": [
    "model.save(\"word2vec.model\")"
   ]
  },
  {
   "cell_type": "code",
   "execution_count": 161,
   "metadata": {},
   "outputs": [
    {
     "data": {
      "text/plain": [
       "[('satay', 0.6898965835571289),\n",
       " ('pad', 0.6633636951446533),\n",
       " ('masala', 0.6548245549201965),\n",
       " ('Pad', 0.6543367505073547),\n",
       " ('lemongrass', 0.6468486785888672),\n",
       " ('Curry', 0.6436727643013),\n",
       " ('roti', 0.641756534576416),\n",
       " ('mee', 0.6394912004470825),\n",
       " ('paneer', 0.6343382000923157),\n",
       " ('biryani', 0.6332923769950867)]"
      ]
     },
     "execution_count": 161,
     "metadata": {},
     "output_type": "execute_result"
    }
   ],
   "source": [
    "model.wv.most_similar(\"curry\")"
   ]
  },
  {
   "cell_type": "code",
   "execution_count": 172,
   "metadata": {},
   "outputs": [],
   "source": [
    "text =\"Wow!  Yummy, different,  delicious.   Our favorite is the lamb curry and korma.  With 10 different kinds of naan!!!  Don't let the outside deter you (because we almost changed our minds)...go in and try something new!   You'll be glad you did!\"\n",
    "text = word_tokenize(preprocess(text))\n",
    "\n",
    "similar={}\n",
    "for t in text:\n",
    "    if t in model.wv:\n",
    "        similar[t]= model.wv.similarity(t.strip(\" !.\"),\"food\")\n",
    "    else:\n",
    "        similar[t]=0"
   ]
  },
  {
   "cell_type": "code",
   "execution_count": 177,
   "metadata": {},
   "outputs": [
    {
     "data": {
      "text/plain": [
       "{'naan': 0.35486144,\n",
       " 'curry': 0.24955298,\n",
       " 'something': 0.17871559,\n",
       " 'lamb': 0.17564566,\n",
       " 'outside': 0.15002188,\n",
       " 'korma': 0.11275223,\n",
       " 'deter': 0.0850741,\n",
       " 'almost': 0.06337546,\n",
       " 'favorite': 0.04751827,\n",
       " 'youll': 0.040264584}"
      ]
     },
     "execution_count": 177,
     "metadata": {},
     "output_type": "execute_result"
    }
   ],
   "source": [
    "sort_simi = dict(sorted(similar.items(), key=lambda item: item[1], reverse=True))\n",
    "first_10_by_keys = dict(list(sort_simi.items())[:10])\n",
    "first_10_by_keys"
   ]
  },
  {
   "cell_type": "markdown",
   "metadata": {},
   "source": [
    "# Implement mispelling correction"
   ]
  },
  {
   "cell_type": "code",
   "execution_count": 79,
   "metadata": {},
   "outputs": [
    {
     "data": {
      "text/html": [
       "<div>\n",
       "<style scoped>\n",
       "    .dataframe tbody tr th:only-of-type {\n",
       "        vertical-align: middle;\n",
       "    }\n",
       "\n",
       "    .dataframe tbody tr th {\n",
       "        vertical-align: top;\n",
       "    }\n",
       "\n",
       "    .dataframe thead th {\n",
       "        text-align: right;\n",
       "    }\n",
       "</style>\n",
       "<table border=\"1\" class=\"dataframe\">\n",
       "  <thead>\n",
       "    <tr style=\"text-align: right;\">\n",
       "      <th></th>\n",
       "      <th>business_id</th>\n",
       "      <th>name</th>\n",
       "      <th>stars</th>\n",
       "      <th>review_count</th>\n",
       "      <th>is_open</th>\n",
       "      <th>city</th>\n",
       "    </tr>\n",
       "  </thead>\n",
       "  <tbody>\n",
       "    <tr>\n",
       "      <th>0</th>\n",
       "      <td>Pns2l4eNsfO8kk83dixA6A</td>\n",
       "      <td>Abby Rappoport, LAC, CMQ</td>\n",
       "      <td>5.0</td>\n",
       "      <td>7</td>\n",
       "      <td>0</td>\n",
       "      <td>Santa Barbara</td>\n",
       "    </tr>\n",
       "    <tr>\n",
       "      <th>1</th>\n",
       "      <td>mpf3x-BjTdTEA3yCZrAYPw</td>\n",
       "      <td>The UPS Store</td>\n",
       "      <td>3.0</td>\n",
       "      <td>15</td>\n",
       "      <td>1</td>\n",
       "      <td>Affton</td>\n",
       "    </tr>\n",
       "    <tr>\n",
       "      <th>2</th>\n",
       "      <td>tUFrWirKiKi_TAnsVWINQQ</td>\n",
       "      <td>Target</td>\n",
       "      <td>3.5</td>\n",
       "      <td>22</td>\n",
       "      <td>0</td>\n",
       "      <td>Tucson</td>\n",
       "    </tr>\n",
       "    <tr>\n",
       "      <th>3</th>\n",
       "      <td>MTSW4McQd7CbVtyjqoe9mw</td>\n",
       "      <td>St Honore Pastries</td>\n",
       "      <td>4.0</td>\n",
       "      <td>80</td>\n",
       "      <td>1</td>\n",
       "      <td>Philadelphia</td>\n",
       "    </tr>\n",
       "    <tr>\n",
       "      <th>4</th>\n",
       "      <td>mWMc6_wTdE0EUBKIGXDVfA</td>\n",
       "      <td>Perkiomen Valley Brewery</td>\n",
       "      <td>4.5</td>\n",
       "      <td>13</td>\n",
       "      <td>1</td>\n",
       "      <td>Green Lane</td>\n",
       "    </tr>\n",
       "    <tr>\n",
       "      <th>...</th>\n",
       "      <td>...</td>\n",
       "      <td>...</td>\n",
       "      <td>...</td>\n",
       "      <td>...</td>\n",
       "      <td>...</td>\n",
       "      <td>...</td>\n",
       "    </tr>\n",
       "    <tr>\n",
       "      <th>150341</th>\n",
       "      <td>IUQopTMmYQG-qRtBk-8QnA</td>\n",
       "      <td>Binh's Nails</td>\n",
       "      <td>3.0</td>\n",
       "      <td>13</td>\n",
       "      <td>1</td>\n",
       "      <td>Edmonton</td>\n",
       "    </tr>\n",
       "    <tr>\n",
       "      <th>150342</th>\n",
       "      <td>c8GjPIOTGVmIemT7j5_SyQ</td>\n",
       "      <td>Wild Birds Unlimited</td>\n",
       "      <td>4.0</td>\n",
       "      <td>5</td>\n",
       "      <td>1</td>\n",
       "      <td>Nashville</td>\n",
       "    </tr>\n",
       "    <tr>\n",
       "      <th>150343</th>\n",
       "      <td>_QAMST-NrQobXduilWEqSw</td>\n",
       "      <td>Claire's Boutique</td>\n",
       "      <td>3.5</td>\n",
       "      <td>8</td>\n",
       "      <td>1</td>\n",
       "      <td>Indianapolis</td>\n",
       "    </tr>\n",
       "    <tr>\n",
       "      <th>150344</th>\n",
       "      <td>mtGm22y5c2UHNXDFAjaPNw</td>\n",
       "      <td>Cyclery &amp; Fitness Center</td>\n",
       "      <td>4.0</td>\n",
       "      <td>24</td>\n",
       "      <td>1</td>\n",
       "      <td>Edwardsville</td>\n",
       "    </tr>\n",
       "    <tr>\n",
       "      <th>150345</th>\n",
       "      <td>jV_XOycEzSlTx-65W906pg</td>\n",
       "      <td>Sic Ink</td>\n",
       "      <td>4.5</td>\n",
       "      <td>9</td>\n",
       "      <td>1</td>\n",
       "      <td>Apollo beach</td>\n",
       "    </tr>\n",
       "  </tbody>\n",
       "</table>\n",
       "<p>150346 rows × 6 columns</p>\n",
       "</div>"
      ],
      "text/plain": [
       "                   business_id                      name  stars  review_count  \\\n",
       "0       Pns2l4eNsfO8kk83dixA6A  Abby Rappoport, LAC, CMQ    5.0             7   \n",
       "1       mpf3x-BjTdTEA3yCZrAYPw             The UPS Store    3.0            15   \n",
       "2       tUFrWirKiKi_TAnsVWINQQ                    Target    3.5            22   \n",
       "3       MTSW4McQd7CbVtyjqoe9mw        St Honore Pastries    4.0            80   \n",
       "4       mWMc6_wTdE0EUBKIGXDVfA  Perkiomen Valley Brewery    4.5            13   \n",
       "...                        ...                       ...    ...           ...   \n",
       "150341  IUQopTMmYQG-qRtBk-8QnA              Binh's Nails    3.0            13   \n",
       "150342  c8GjPIOTGVmIemT7j5_SyQ      Wild Birds Unlimited    4.0             5   \n",
       "150343  _QAMST-NrQobXduilWEqSw         Claire's Boutique    3.5             8   \n",
       "150344  mtGm22y5c2UHNXDFAjaPNw  Cyclery & Fitness Center    4.0            24   \n",
       "150345  jV_XOycEzSlTx-65W906pg                   Sic Ink    4.5             9   \n",
       "\n",
       "        is_open           city  \n",
       "0             0  Santa Barbara  \n",
       "1             1         Affton  \n",
       "2             0         Tucson  \n",
       "3             1   Philadelphia  \n",
       "4             1     Green Lane  \n",
       "...         ...            ...  \n",
       "150341        1       Edmonton  \n",
       "150342        1      Nashville  \n",
       "150343        1   Indianapolis  \n",
       "150344        1   Edwardsville  \n",
       "150345        1   Apollo beach  \n",
       "\n",
       "[150346 rows x 6 columns]"
      ]
     },
     "execution_count": 79,
     "metadata": {},
     "output_type": "execute_result"
    }
   ],
   "source": [
    "df_business"
   ]
  },
  {
   "cell_type": "code",
   "execution_count": 149,
   "metadata": {},
   "outputs": [],
   "source": [
    "bus_name = list(set(df_business[\"name\"].to_list()))"
   ]
  },
  {
   "cell_type": "code",
   "execution_count": 150,
   "metadata": {},
   "outputs": [],
   "source": [
    "def med_dp(str1, str2):\n",
    "\n",
    "    def med_dp_helper(str1, str2, m, n):\n",
    "\n",
    "        d = {}\n",
    "        key = m, n\n",
    "\n",
    "        # = = = = = = = = = = = = = = = = = = = = = = = = = = = = = = #\n",
    "        #      TODO: Complete the code by filling the \"pass\"         #\n",
    "        # = = = = = = = = = = = = = = = = = = = = = = = = = = = = = = #\n",
    "        \n",
    "        if m == 0: \n",
    "           return n\n",
    "        if n == 0: \n",
    "           return m \n",
    "        if key in d: \n",
    "           return d[key]\n",
    "        if str1[m - 1] == str2[n - 1]: \n",
    "          return med_dp_helper(str1, str2, m - 1, n - 1)\n",
    "\n",
    "        # Hint: you probably want to write something here\n",
    "        d[key] = min(1 + med_dp_helper(str1, str2, m, n - 1), \n",
    "                     1 + med_dp_helper(str1, str2, m - 1, n), \n",
    "                     2 + med_dp_helper(str1, str2, m - 1, n - 1))\n",
    "        return d[key]\n",
    "\n",
    "    return med_dp_helper(str1, str2, len(str1), len(str2))"
   ]
  },
  {
   "cell_type": "code",
   "execution_count": 151,
   "metadata": {},
   "outputs": [],
   "source": [
    "def correct_spelling(misspelled_word, dictionary):\n",
    "    closest_match = None\n",
    "    min_distance = float('inf')\n",
    "    cand = [item for item in dictionary if item.startswith(misspelled_word)]\n",
    "    close_p = {}\n",
    "    for word in cand:\n",
    "       close_p[word] = med_dp(misspelled_word,word)\n",
    "\n",
    "    sorted_d = dict(sorted(close_p.items(), key=lambda item: item[1]))\n",
    "    first_10_by_keys = dict(list(sorted_d.items())[:10])\n",
    "    return first_10_by_keys\n"
   ]
  },
  {
   "cell_type": "code",
   "execution_count": 152,
   "metadata": {},
   "outputs": [
    {
     "data": {
      "text/plain": [
       "{'Target': 3,\n",
       " 'Tartine': 4,\n",
       " 'Tartufo': 4,\n",
       " 'Tarboosh': 5,\n",
       " 'Tara Shaw': 6,\n",
       " 'Tara Yoga': 6,\n",
       " 'Tarpon Inn': 7,\n",
       " 'Tarahumara': 7,\n",
       " 'Tarka Indian': 9,\n",
       " \"Tarek's Cafe\": 9,\n",
       " 'TargetMaster': 9,\n",
       " 'Tarpon Diner': 9,\n",
       " 'Target World': 9,\n",
       " 'Targetmaster': 9,\n",
       " 'Tarpon Tavern': 10}"
      ]
     },
     "execution_count": 152,
     "metadata": {},
     "output_type": "execute_result"
    }
   ],
   "source": [
    "correct_spelling(\"Tar\",bus_name)"
   ]
  },
  {
   "cell_type": "code",
   "execution_count": null,
   "metadata": {},
   "outputs": [],
   "source": []
  }
 ],
 "metadata": {
  "kernelspec": {
   "display_name": "deeplearning",
   "language": "python",
   "name": "python3"
  },
  "language_info": {
   "codemirror_mode": {
    "name": "ipython",
    "version": 3
   },
   "file_extension": ".py",
   "mimetype": "text/x-python",
   "name": "python",
   "nbconvert_exporter": "python",
   "pygments_lexer": "ipython3",
   "version": "3.10.9"
  }
 },
 "nbformat": 4,
 "nbformat_minor": 2
}
