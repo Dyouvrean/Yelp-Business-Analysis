{
 "cells": [
  {
   "cell_type": "code",
   "execution_count": 1,
   "metadata": {},
   "outputs": [],
   "source": [
    "import sqlite3\n",
    "import pandas as pd\n",
    "import numpy as np\n",
    "import json\n",
    "import matplotlib.pyplot as plt"
   ]
  },
  {
   "cell_type": "markdown",
   "metadata": {},
   "source": [
    "# Load data"
   ]
  },
  {
   "cell_type": "code",
   "execution_count": 2,
   "metadata": {},
   "outputs": [],
   "source": [
    "conn = sqlite3.connect('yelp_dataset_business.db') \n",
    "df_business= pd.read_sql(\"\"\"SELECT * FROM business\"\"\",conn )\n",
    "conn.close()"
   ]
  },
  {
   "cell_type": "code",
   "execution_count": 3,
   "metadata": {},
   "outputs": [],
   "source": [
    "df_business.is_open = df_business.is_open.astype(int)\n",
    "df_business[\"review_count\"]= df_business[\"review_count\"].astype(int)\n",
    "df_business['attributes']= df_business['attributes'].apply(lambda x: eval(x) if x else None)\n",
    "df_business['hours']= df_business['hours'].apply(lambda x: eval(x) if x else None)"
   ]
  },
  {
   "cell_type": "code",
   "execution_count": 4,
   "metadata": {},
   "outputs": [],
   "source": [
    "attr = [col for col in df_business.attributes.explode().unique() if col is not None]\n",
    "lst_of_attr_dict = []\n",
    "for attr_dict in df_business.attributes:\n",
    "    if not attr_dict:\n",
    "        lst_of_attr_dict.append({})\n",
    "        continue\n",
    "\n",
    "    if 'BusinessParking' in attr_dict:\n",
    "        if type(attr_dict['BusinessParking']) == str:\n",
    "            attr_dict['BusinessParking'] = ('True' in attr_dict['BusinessParking'])\n",
    "\n",
    "    lst_of_attr_dict.append(attr_dict)\n",
    "attr_df = pd.DataFrame(lst_of_attr_dict, columns=attr)\n",
    "\n",
    "for col in attr_df:\n",
    "        attr_df[col] = attr_df[col].fillna(False).astype(bool)\n",
    "    \n",
    "df_business = pd.concat([df_business.reset_index().drop('index', axis=1), attr_df], axis=1)\n",
    "df_business.drop(['attributes'], axis=1, inplace=True)\n",
    "lst_of_time = []\n",
    "for time_dict in df_business.hours:\n",
    "    if not time_dict:\n",
    "        lst_of_time.append({})\n",
    "        continue\n",
    "    lst_of_time.append(time_dict)\n",
    "time_df = pd.DataFrame(lst_of_time)\n",
    "df_business = pd.concat([df_business, time_df], axis=1).drop('hours', axis=1)"
   ]
  }
 ],
 "metadata": {
  "kernelspec": {
   "display_name": "deeplearning",
   "language": "python",
   "name": "python3"
  },
  "language_info": {
   "codemirror_mode": {
    "name": "ipython",
    "version": 3
   },
   "file_extension": ".py",
   "mimetype": "text/x-python",
   "name": "python",
   "nbconvert_exporter": "python",
   "pygments_lexer": "ipython3",
   "version": "3.10.9"
  }
 },
 "nbformat": 4,
 "nbformat_minor": 2
}
