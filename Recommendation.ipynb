{
 "cells": [
  {
   "cell_type": "code",
   "execution_count": 1,
   "metadata": {},
   "outputs": [],
   "source": [
    "import sqlite3\n",
    "import pandas as pd\n",
    "import numpy as np\n",
    "import json\n",
    "import matplotlib.pyplot as plt\n",
    "from sklearn.decomposition import TruncatedSVD\n",
    "from sklearn.cluster import KMeans"
   ]
  },
  {
   "cell_type": "markdown",
   "metadata": {},
   "source": [
    "# Load data"
   ]
  },
  {
   "cell_type": "code",
   "execution_count": 2,
   "metadata": {},
   "outputs": [],
   "source": [
    "conn = sqlite3.connect('yelp_dataset_reviews.db') \n",
    "df_reviews= pd.read_sql(\"\"\"SELECT ubt.*\n",
    "                        FROM reviews ubt\n",
    "                        INNER JOIN (\n",
    "                         SELECT user_id, business_id, MAX(date) as max_date\n",
    "                        FROM reviews\n",
    "                        GROUP BY 1,2\n",
    ") grouped_ubt ON ubt.user_id = grouped_ubt.user_id\n",
    "              AND ubt.business_id = grouped_ubt.business_id\n",
    "              AND ubt.date = grouped_ubt.max_date;\n",
    "\"\"\",conn )\n",
    "conn.close()"
   ]
  },
  {
   "cell_type": "code",
   "execution_count": 3,
   "metadata": {},
   "outputs": [],
   "source": [
    "pd.set_option('display.max_colwidth', None)"
   ]
  },
  {
   "cell_type": "code",
   "execution_count": 4,
   "metadata": {},
   "outputs": [],
   "source": [
    "conn = sqlite3.connect('yelp_dataset_business.db') \n",
    "df_business= pd.read_sql(\"\"\"SELECT * FROM business\"\"\",conn )\n",
    "conn.close()"
   ]
  },
  {
   "cell_type": "code",
   "execution_count": 5,
   "metadata": {},
   "outputs": [],
   "source": [
    "df_business.is_open = df_business.is_open.astype(int)\n",
    "df_business[\"review_count\"]= df_business[\"review_count\"].astype(int)\n",
    "df_business['attributes']= df_business['attributes'].apply(lambda x: eval(x) if x else None)\n",
    "df_business['hours']= df_business['hours'].apply(lambda x: eval(x) if x else None)"
   ]
  },
  {
   "cell_type": "code",
   "execution_count": 6,
   "metadata": {},
   "outputs": [],
   "source": [
    "conn = sqlite3.connect('yelp_dataset_users.db') \n",
    "df_users= pd.read_sql(\"\"\"SELECT user_id, name FROM users\"\"\",conn )\n",
    "conn.close()"
   ]
  },
  {
   "cell_type": "code",
   "execution_count": 7,
   "metadata": {},
   "outputs": [],
   "source": [
    "attr = [col for col in df_business.attributes.explode().unique() if col is not None]\n",
    "lst_of_attr_dict = []\n",
    "for attr_dict in df_business.attributes:\n",
    "    if not attr_dict:\n",
    "        lst_of_attr_dict.append({})\n",
    "        continue\n",
    "\n",
    "    if 'BusinessParking' in attr_dict:\n",
    "        if type(attr_dict['BusinessParking']) == str:\n",
    "            attr_dict['BusinessParking'] = ('True' in attr_dict['BusinessParking'])\n",
    "\n",
    "    lst_of_attr_dict.append(attr_dict)\n",
    "attr_df = pd.DataFrame(lst_of_attr_dict, columns=attr)\n",
    "\n",
    "for col in attr_df:\n",
    "        attr_df[col] = attr_df[col].fillna(False).astype(bool)\n",
    "    \n",
    "df_business = pd.concat([df_business.reset_index().drop('index', axis=1), attr_df], axis=1)\n",
    "df_business.drop(['attributes'], axis=1, inplace=True)\n",
    "lst_of_time = []\n",
    "for time_dict in df_business.hours:\n",
    "    if not time_dict:\n",
    "        lst_of_time.append({})\n",
    "        continue\n",
    "    lst_of_time.append(time_dict)\n",
    "time_df = pd.DataFrame(lst_of_time)\n",
    "df_business = pd.concat([df_business, time_df], axis=1).drop('hours', axis=1)"
   ]
  },
  {
   "cell_type": "code",
   "execution_count": 8,
   "metadata": {},
   "outputs": [],
   "source": [
    "df_reviews['date'] = pd.to_datetime(df_reviews['date'])"
   ]
  },
  {
   "cell_type": "markdown",
   "metadata": {},
   "source": [
    "# Feature Engineering"
   ]
  },
  {
   "cell_type": "code",
   "execution_count": 9,
   "metadata": {},
   "outputs": [
    {
     "data": {
      "text/plain": [
       "0:0-0:0        31362\n",
       "8:0-17:0        4202\n",
       "9:0-17:0        3910\n",
       "11:0-22:0       3241\n",
       "11:0-21:0       2938\n",
       "               ...  \n",
       "19:30-22:0         1\n",
       "16:45-20:15        1\n",
       "22:0-18:0          1\n",
       "21:30-0:0          1\n",
       "20:0-4:0           1\n",
       "Name: Monday, Length: 1315, dtype: int64"
      ]
     },
     "execution_count": 9,
     "metadata": {},
     "output_type": "execute_result"
    }
   ],
   "source": [
    "df_business['Monday'].value_counts()"
   ]
  },
  {
   "cell_type": "code",
   "execution_count": 10,
   "metadata": {},
   "outputs": [],
   "source": [
    "df_business = df_business.replace(False, 0)\n",
    "df_business = df_business.replace(True, 1)"
   ]
  },
  {
   "cell_type": "code",
   "execution_count": 11,
   "metadata": {},
   "outputs": [],
   "source": [
    "df_business = df_business.drop([\"Monday\",\"Tuesday\",\"Wednesday\",\"Thursday\",\"Friday\",\"Saturday\",\"Sunday\"],axis=1)"
   ]
  },
  {
   "cell_type": "markdown",
   "metadata": {},
   "source": [
    "# User based Collaborative Filtering\n"
   ]
  },
  {
   "cell_type": "markdown",
   "metadata": {},
   "source": [
    "### Select review table and reduce to managable size"
   ]
  },
  {
   "cell_type": "code",
   "execution_count": 12,
   "metadata": {},
   "outputs": [],
   "source": [
    "selected= ['review_id', 'user_id', 'business_id', 'stars','date']\n",
    "df_reviews = df_reviews[selected]\n",
    "df_reviews = df_reviews[df_reviews.stars>4]"
   ]
  },
  {
   "cell_type": "code",
   "execution_count": 13,
   "metadata": {},
   "outputs": [],
   "source": [
    "dis_rate = df_reviews\n",
    "idx = dis_rate.groupby(['user_id','business_id'])['date'].idxmax()\n",
    "dis_rate = dis_rate.loc[idx]\n",
    "dis_rate=dis_rate[['user_id','business_id','stars']].iloc[:30000,:]"
   ]
  },
  {
   "cell_type": "markdown",
   "metadata": {},
   "source": [
    "### get user_business pivot table"
   ]
  },
  {
   "cell_type": "code",
   "execution_count": 79,
   "metadata": {},
   "outputs": [
    {
     "data": {
      "text/html": [
       "<div>\n",
       "<style scoped>\n",
       "    .dataframe tbody tr th:only-of-type {\n",
       "        vertical-align: middle;\n",
       "    }\n",
       "\n",
       "    .dataframe tbody tr th {\n",
       "        vertical-align: top;\n",
       "    }\n",
       "\n",
       "    .dataframe thead th {\n",
       "        text-align: right;\n",
       "    }\n",
       "</style>\n",
       "<table border=\"1\" class=\"dataframe\">\n",
       "  <thead>\n",
       "    <tr style=\"text-align: right;\">\n",
       "      <th>business_id</th>\n",
       "      <th>--ZVrH2X2QXBFdCilbirsw</th>\n",
       "      <th>--epgcb7xHGuJ-4PUeSLAw</th>\n",
       "      <th>-06ngMH_Ejkm_6HQBYxB7g</th>\n",
       "      <th>-0FX23yAacC4bbLaGPvyxw</th>\n",
       "      <th>-0TffRSXXIlBYVbb5AwfTg</th>\n",
       "      <th>-0Ym1Wg3bXd_TDz8JtvOQg</th>\n",
       "      <th>-0jzoPt3UeXn6FUXVQvyPg</th>\n",
       "      <th>-16EH6b1ho0xQqP0Bzm9Mg</th>\n",
       "      <th>-1B9pP_CrRBJYPICE5WbRA</th>\n",
       "      <th>-1MhPXk1FglglUAmuPLIGg</th>\n",
       "      <th>...</th>\n",
       "      <th>zxj_evoLcLDS29uktC8sFw</th>\n",
       "      <th>zxuVnNVAUm16Sro0dS_lmg</th>\n",
       "      <th>zyFn7oqokhaUaPPqd2FbbA</th>\n",
       "      <th>zyHP-oXgDkANEyQbJVKf8g</th>\n",
       "      <th>zyghhZzPgb1bRAIYB-oi1w</th>\n",
       "      <th>zymvTQ12tRy3bzmP4tPgOg</th>\n",
       "      <th>zyrhpLocbo60EbS57jBTLw</th>\n",
       "      <th>zzHtFjfM7NvuVM1HTsCLGA</th>\n",
       "      <th>zzO2zgfqP9ANmEWt-EZFWg</th>\n",
       "      <th>zzXDi0Pdv0s84M-oQaIa_g</th>\n",
       "    </tr>\n",
       "    <tr>\n",
       "      <th>user_id</th>\n",
       "      <th></th>\n",
       "      <th></th>\n",
       "      <th></th>\n",
       "      <th></th>\n",
       "      <th></th>\n",
       "      <th></th>\n",
       "      <th></th>\n",
       "      <th></th>\n",
       "      <th></th>\n",
       "      <th></th>\n",
       "      <th></th>\n",
       "      <th></th>\n",
       "      <th></th>\n",
       "      <th></th>\n",
       "      <th></th>\n",
       "      <th></th>\n",
       "      <th></th>\n",
       "      <th></th>\n",
       "      <th></th>\n",
       "      <th></th>\n",
       "      <th></th>\n",
       "    </tr>\n",
       "  </thead>\n",
       "  <tbody>\n",
       "    <tr>\n",
       "      <th>---1lKK3aKOuomHnwAkAow</th>\n",
       "      <td>0.0</td>\n",
       "      <td>0.0</td>\n",
       "      <td>0.0</td>\n",
       "      <td>0.0</td>\n",
       "      <td>0.0</td>\n",
       "      <td>0.0</td>\n",
       "      <td>0.0</td>\n",
       "      <td>0.0</td>\n",
       "      <td>0.0</td>\n",
       "      <td>0.0</td>\n",
       "      <td>...</td>\n",
       "      <td>0.0</td>\n",
       "      <td>0.0</td>\n",
       "      <td>0.0</td>\n",
       "      <td>0.0</td>\n",
       "      <td>0.0</td>\n",
       "      <td>0.0</td>\n",
       "      <td>0.0</td>\n",
       "      <td>0.0</td>\n",
       "      <td>0.0</td>\n",
       "      <td>0.0</td>\n",
       "    </tr>\n",
       "    <tr>\n",
       "      <th>---2PmXbF47D870stH1jqA</th>\n",
       "      <td>0.0</td>\n",
       "      <td>0.0</td>\n",
       "      <td>0.0</td>\n",
       "      <td>0.0</td>\n",
       "      <td>0.0</td>\n",
       "      <td>0.0</td>\n",
       "      <td>0.0</td>\n",
       "      <td>0.0</td>\n",
       "      <td>0.0</td>\n",
       "      <td>0.0</td>\n",
       "      <td>...</td>\n",
       "      <td>0.0</td>\n",
       "      <td>0.0</td>\n",
       "      <td>0.0</td>\n",
       "      <td>0.0</td>\n",
       "      <td>0.0</td>\n",
       "      <td>0.0</td>\n",
       "      <td>0.0</td>\n",
       "      <td>0.0</td>\n",
       "      <td>0.0</td>\n",
       "      <td>0.0</td>\n",
       "    </tr>\n",
       "    <tr>\n",
       "      <th>---UgP94gokyCDuB5zUssA</th>\n",
       "      <td>0.0</td>\n",
       "      <td>0.0</td>\n",
       "      <td>0.0</td>\n",
       "      <td>0.0</td>\n",
       "      <td>0.0</td>\n",
       "      <td>0.0</td>\n",
       "      <td>0.0</td>\n",
       "      <td>0.0</td>\n",
       "      <td>0.0</td>\n",
       "      <td>0.0</td>\n",
       "      <td>...</td>\n",
       "      <td>0.0</td>\n",
       "      <td>0.0</td>\n",
       "      <td>0.0</td>\n",
       "      <td>0.0</td>\n",
       "      <td>0.0</td>\n",
       "      <td>0.0</td>\n",
       "      <td>0.0</td>\n",
       "      <td>0.0</td>\n",
       "      <td>0.0</td>\n",
       "      <td>0.0</td>\n",
       "    </tr>\n",
       "    <tr>\n",
       "      <th>---r61b7EpVPkb4UVme5tA</th>\n",
       "      <td>0.0</td>\n",
       "      <td>0.0</td>\n",
       "      <td>0.0</td>\n",
       "      <td>0.0</td>\n",
       "      <td>0.0</td>\n",
       "      <td>0.0</td>\n",
       "      <td>0.0</td>\n",
       "      <td>0.0</td>\n",
       "      <td>0.0</td>\n",
       "      <td>0.0</td>\n",
       "      <td>...</td>\n",
       "      <td>0.0</td>\n",
       "      <td>0.0</td>\n",
       "      <td>0.0</td>\n",
       "      <td>0.0</td>\n",
       "      <td>0.0</td>\n",
       "      <td>0.0</td>\n",
       "      <td>0.0</td>\n",
       "      <td>0.0</td>\n",
       "      <td>0.0</td>\n",
       "      <td>0.0</td>\n",
       "    </tr>\n",
       "    <tr>\n",
       "      <th>---zemaUC8WeJeWKqS6p9Q</th>\n",
       "      <td>0.0</td>\n",
       "      <td>0.0</td>\n",
       "      <td>0.0</td>\n",
       "      <td>0.0</td>\n",
       "      <td>0.0</td>\n",
       "      <td>0.0</td>\n",
       "      <td>0.0</td>\n",
       "      <td>0.0</td>\n",
       "      <td>0.0</td>\n",
       "      <td>0.0</td>\n",
       "      <td>...</td>\n",
       "      <td>0.0</td>\n",
       "      <td>0.0</td>\n",
       "      <td>0.0</td>\n",
       "      <td>0.0</td>\n",
       "      <td>0.0</td>\n",
       "      <td>0.0</td>\n",
       "      <td>0.0</td>\n",
       "      <td>0.0</td>\n",
       "      <td>0.0</td>\n",
       "      <td>0.0</td>\n",
       "    </tr>\n",
       "    <tr>\n",
       "      <th>...</th>\n",
       "      <td>...</td>\n",
       "      <td>...</td>\n",
       "      <td>...</td>\n",
       "      <td>...</td>\n",
       "      <td>...</td>\n",
       "      <td>...</td>\n",
       "      <td>...</td>\n",
       "      <td>...</td>\n",
       "      <td>...</td>\n",
       "      <td>...</td>\n",
       "      <td>...</td>\n",
       "      <td>...</td>\n",
       "      <td>...</td>\n",
       "      <td>...</td>\n",
       "      <td>...</td>\n",
       "      <td>...</td>\n",
       "      <td>...</td>\n",
       "      <td>...</td>\n",
       "      <td>...</td>\n",
       "      <td>...</td>\n",
       "      <td>...</td>\n",
       "    </tr>\n",
       "    <tr>\n",
       "      <th>-cWLKRScFMQGkq9MOzI_yw</th>\n",
       "      <td>0.0</td>\n",
       "      <td>0.0</td>\n",
       "      <td>0.0</td>\n",
       "      <td>0.0</td>\n",
       "      <td>0.0</td>\n",
       "      <td>0.0</td>\n",
       "      <td>0.0</td>\n",
       "      <td>0.0</td>\n",
       "      <td>0.0</td>\n",
       "      <td>0.0</td>\n",
       "      <td>...</td>\n",
       "      <td>0.0</td>\n",
       "      <td>0.0</td>\n",
       "      <td>0.0</td>\n",
       "      <td>0.0</td>\n",
       "      <td>0.0</td>\n",
       "      <td>0.0</td>\n",
       "      <td>0.0</td>\n",
       "      <td>0.0</td>\n",
       "      <td>0.0</td>\n",
       "      <td>0.0</td>\n",
       "    </tr>\n",
       "    <tr>\n",
       "      <th>-cWYVhfgW2UwjcFesbZbZA</th>\n",
       "      <td>0.0</td>\n",
       "      <td>0.0</td>\n",
       "      <td>0.0</td>\n",
       "      <td>0.0</td>\n",
       "      <td>0.0</td>\n",
       "      <td>0.0</td>\n",
       "      <td>0.0</td>\n",
       "      <td>0.0</td>\n",
       "      <td>0.0</td>\n",
       "      <td>0.0</td>\n",
       "      <td>...</td>\n",
       "      <td>0.0</td>\n",
       "      <td>0.0</td>\n",
       "      <td>0.0</td>\n",
       "      <td>0.0</td>\n",
       "      <td>0.0</td>\n",
       "      <td>0.0</td>\n",
       "      <td>0.0</td>\n",
       "      <td>0.0</td>\n",
       "      <td>0.0</td>\n",
       "      <td>0.0</td>\n",
       "    </tr>\n",
       "    <tr>\n",
       "      <th>-cX1cJ8fayYZi9XakiR_dg</th>\n",
       "      <td>0.0</td>\n",
       "      <td>0.0</td>\n",
       "      <td>0.0</td>\n",
       "      <td>0.0</td>\n",
       "      <td>0.0</td>\n",
       "      <td>0.0</td>\n",
       "      <td>0.0</td>\n",
       "      <td>0.0</td>\n",
       "      <td>0.0</td>\n",
       "      <td>0.0</td>\n",
       "      <td>...</td>\n",
       "      <td>0.0</td>\n",
       "      <td>0.0</td>\n",
       "      <td>0.0</td>\n",
       "      <td>0.0</td>\n",
       "      <td>0.0</td>\n",
       "      <td>0.0</td>\n",
       "      <td>0.0</td>\n",
       "      <td>0.0</td>\n",
       "      <td>0.0</td>\n",
       "      <td>0.0</td>\n",
       "    </tr>\n",
       "    <tr>\n",
       "      <th>-cX6CW0hntz6LUF-nJsOUQ</th>\n",
       "      <td>0.0</td>\n",
       "      <td>0.0</td>\n",
       "      <td>0.0</td>\n",
       "      <td>0.0</td>\n",
       "      <td>0.0</td>\n",
       "      <td>0.0</td>\n",
       "      <td>0.0</td>\n",
       "      <td>0.0</td>\n",
       "      <td>0.0</td>\n",
       "      <td>0.0</td>\n",
       "      <td>...</td>\n",
       "      <td>0.0</td>\n",
       "      <td>0.0</td>\n",
       "      <td>0.0</td>\n",
       "      <td>0.0</td>\n",
       "      <td>0.0</td>\n",
       "      <td>0.0</td>\n",
       "      <td>0.0</td>\n",
       "      <td>0.0</td>\n",
       "      <td>0.0</td>\n",
       "      <td>0.0</td>\n",
       "    </tr>\n",
       "    <tr>\n",
       "      <th>-cX9Uf8TrT4WamRqaDobhA</th>\n",
       "      <td>0.0</td>\n",
       "      <td>0.0</td>\n",
       "      <td>0.0</td>\n",
       "      <td>0.0</td>\n",
       "      <td>0.0</td>\n",
       "      <td>0.0</td>\n",
       "      <td>0.0</td>\n",
       "      <td>0.0</td>\n",
       "      <td>0.0</td>\n",
       "      <td>0.0</td>\n",
       "      <td>...</td>\n",
       "      <td>0.0</td>\n",
       "      <td>0.0</td>\n",
       "      <td>0.0</td>\n",
       "      <td>0.0</td>\n",
       "      <td>0.0</td>\n",
       "      <td>0.0</td>\n",
       "      <td>0.0</td>\n",
       "      <td>0.0</td>\n",
       "      <td>0.0</td>\n",
       "      <td>0.0</td>\n",
       "    </tr>\n",
       "  </tbody>\n",
       "</table>\n",
       "<p>12575 rows × 19719 columns</p>\n",
       "</div>"
      ],
      "text/plain": [
       "business_id             --ZVrH2X2QXBFdCilbirsw  --epgcb7xHGuJ-4PUeSLAw  \\\n",
       "user_id                                                                  \n",
       "---1lKK3aKOuomHnwAkAow                     0.0                     0.0   \n",
       "---2PmXbF47D870stH1jqA                     0.0                     0.0   \n",
       "---UgP94gokyCDuB5zUssA                     0.0                     0.0   \n",
       "---r61b7EpVPkb4UVme5tA                     0.0                     0.0   \n",
       "---zemaUC8WeJeWKqS6p9Q                     0.0                     0.0   \n",
       "...                                        ...                     ...   \n",
       "-cWLKRScFMQGkq9MOzI_yw                     0.0                     0.0   \n",
       "-cWYVhfgW2UwjcFesbZbZA                     0.0                     0.0   \n",
       "-cX1cJ8fayYZi9XakiR_dg                     0.0                     0.0   \n",
       "-cX6CW0hntz6LUF-nJsOUQ                     0.0                     0.0   \n",
       "-cX9Uf8TrT4WamRqaDobhA                     0.0                     0.0   \n",
       "\n",
       "business_id             -06ngMH_Ejkm_6HQBYxB7g  -0FX23yAacC4bbLaGPvyxw  \\\n",
       "user_id                                                                  \n",
       "---1lKK3aKOuomHnwAkAow                     0.0                     0.0   \n",
       "---2PmXbF47D870stH1jqA                     0.0                     0.0   \n",
       "---UgP94gokyCDuB5zUssA                     0.0                     0.0   \n",
       "---r61b7EpVPkb4UVme5tA                     0.0                     0.0   \n",
       "---zemaUC8WeJeWKqS6p9Q                     0.0                     0.0   \n",
       "...                                        ...                     ...   \n",
       "-cWLKRScFMQGkq9MOzI_yw                     0.0                     0.0   \n",
       "-cWYVhfgW2UwjcFesbZbZA                     0.0                     0.0   \n",
       "-cX1cJ8fayYZi9XakiR_dg                     0.0                     0.0   \n",
       "-cX6CW0hntz6LUF-nJsOUQ                     0.0                     0.0   \n",
       "-cX9Uf8TrT4WamRqaDobhA                     0.0                     0.0   \n",
       "\n",
       "business_id             -0TffRSXXIlBYVbb5AwfTg  -0Ym1Wg3bXd_TDz8JtvOQg  \\\n",
       "user_id                                                                  \n",
       "---1lKK3aKOuomHnwAkAow                     0.0                     0.0   \n",
       "---2PmXbF47D870stH1jqA                     0.0                     0.0   \n",
       "---UgP94gokyCDuB5zUssA                     0.0                     0.0   \n",
       "---r61b7EpVPkb4UVme5tA                     0.0                     0.0   \n",
       "---zemaUC8WeJeWKqS6p9Q                     0.0                     0.0   \n",
       "...                                        ...                     ...   \n",
       "-cWLKRScFMQGkq9MOzI_yw                     0.0                     0.0   \n",
       "-cWYVhfgW2UwjcFesbZbZA                     0.0                     0.0   \n",
       "-cX1cJ8fayYZi9XakiR_dg                     0.0                     0.0   \n",
       "-cX6CW0hntz6LUF-nJsOUQ                     0.0                     0.0   \n",
       "-cX9Uf8TrT4WamRqaDobhA                     0.0                     0.0   \n",
       "\n",
       "business_id             -0jzoPt3UeXn6FUXVQvyPg  -16EH6b1ho0xQqP0Bzm9Mg  \\\n",
       "user_id                                                                  \n",
       "---1lKK3aKOuomHnwAkAow                     0.0                     0.0   \n",
       "---2PmXbF47D870stH1jqA                     0.0                     0.0   \n",
       "---UgP94gokyCDuB5zUssA                     0.0                     0.0   \n",
       "---r61b7EpVPkb4UVme5tA                     0.0                     0.0   \n",
       "---zemaUC8WeJeWKqS6p9Q                     0.0                     0.0   \n",
       "...                                        ...                     ...   \n",
       "-cWLKRScFMQGkq9MOzI_yw                     0.0                     0.0   \n",
       "-cWYVhfgW2UwjcFesbZbZA                     0.0                     0.0   \n",
       "-cX1cJ8fayYZi9XakiR_dg                     0.0                     0.0   \n",
       "-cX6CW0hntz6LUF-nJsOUQ                     0.0                     0.0   \n",
       "-cX9Uf8TrT4WamRqaDobhA                     0.0                     0.0   \n",
       "\n",
       "business_id             -1B9pP_CrRBJYPICE5WbRA  -1MhPXk1FglglUAmuPLIGg  ...  \\\n",
       "user_id                                                                 ...   \n",
       "---1lKK3aKOuomHnwAkAow                     0.0                     0.0  ...   \n",
       "---2PmXbF47D870stH1jqA                     0.0                     0.0  ...   \n",
       "---UgP94gokyCDuB5zUssA                     0.0                     0.0  ...   \n",
       "---r61b7EpVPkb4UVme5tA                     0.0                     0.0  ...   \n",
       "---zemaUC8WeJeWKqS6p9Q                     0.0                     0.0  ...   \n",
       "...                                        ...                     ...  ...   \n",
       "-cWLKRScFMQGkq9MOzI_yw                     0.0                     0.0  ...   \n",
       "-cWYVhfgW2UwjcFesbZbZA                     0.0                     0.0  ...   \n",
       "-cX1cJ8fayYZi9XakiR_dg                     0.0                     0.0  ...   \n",
       "-cX6CW0hntz6LUF-nJsOUQ                     0.0                     0.0  ...   \n",
       "-cX9Uf8TrT4WamRqaDobhA                     0.0                     0.0  ...   \n",
       "\n",
       "business_id             zxj_evoLcLDS29uktC8sFw  zxuVnNVAUm16Sro0dS_lmg  \\\n",
       "user_id                                                                  \n",
       "---1lKK3aKOuomHnwAkAow                     0.0                     0.0   \n",
       "---2PmXbF47D870stH1jqA                     0.0                     0.0   \n",
       "---UgP94gokyCDuB5zUssA                     0.0                     0.0   \n",
       "---r61b7EpVPkb4UVme5tA                     0.0                     0.0   \n",
       "---zemaUC8WeJeWKqS6p9Q                     0.0                     0.0   \n",
       "...                                        ...                     ...   \n",
       "-cWLKRScFMQGkq9MOzI_yw                     0.0                     0.0   \n",
       "-cWYVhfgW2UwjcFesbZbZA                     0.0                     0.0   \n",
       "-cX1cJ8fayYZi9XakiR_dg                     0.0                     0.0   \n",
       "-cX6CW0hntz6LUF-nJsOUQ                     0.0                     0.0   \n",
       "-cX9Uf8TrT4WamRqaDobhA                     0.0                     0.0   \n",
       "\n",
       "business_id             zyFn7oqokhaUaPPqd2FbbA  zyHP-oXgDkANEyQbJVKf8g  \\\n",
       "user_id                                                                  \n",
       "---1lKK3aKOuomHnwAkAow                     0.0                     0.0   \n",
       "---2PmXbF47D870stH1jqA                     0.0                     0.0   \n",
       "---UgP94gokyCDuB5zUssA                     0.0                     0.0   \n",
       "---r61b7EpVPkb4UVme5tA                     0.0                     0.0   \n",
       "---zemaUC8WeJeWKqS6p9Q                     0.0                     0.0   \n",
       "...                                        ...                     ...   \n",
       "-cWLKRScFMQGkq9MOzI_yw                     0.0                     0.0   \n",
       "-cWYVhfgW2UwjcFesbZbZA                     0.0                     0.0   \n",
       "-cX1cJ8fayYZi9XakiR_dg                     0.0                     0.0   \n",
       "-cX6CW0hntz6LUF-nJsOUQ                     0.0                     0.0   \n",
       "-cX9Uf8TrT4WamRqaDobhA                     0.0                     0.0   \n",
       "\n",
       "business_id             zyghhZzPgb1bRAIYB-oi1w  zymvTQ12tRy3bzmP4tPgOg  \\\n",
       "user_id                                                                  \n",
       "---1lKK3aKOuomHnwAkAow                     0.0                     0.0   \n",
       "---2PmXbF47D870stH1jqA                     0.0                     0.0   \n",
       "---UgP94gokyCDuB5zUssA                     0.0                     0.0   \n",
       "---r61b7EpVPkb4UVme5tA                     0.0                     0.0   \n",
       "---zemaUC8WeJeWKqS6p9Q                     0.0                     0.0   \n",
       "...                                        ...                     ...   \n",
       "-cWLKRScFMQGkq9MOzI_yw                     0.0                     0.0   \n",
       "-cWYVhfgW2UwjcFesbZbZA                     0.0                     0.0   \n",
       "-cX1cJ8fayYZi9XakiR_dg                     0.0                     0.0   \n",
       "-cX6CW0hntz6LUF-nJsOUQ                     0.0                     0.0   \n",
       "-cX9Uf8TrT4WamRqaDobhA                     0.0                     0.0   \n",
       "\n",
       "business_id             zyrhpLocbo60EbS57jBTLw  zzHtFjfM7NvuVM1HTsCLGA  \\\n",
       "user_id                                                                  \n",
       "---1lKK3aKOuomHnwAkAow                     0.0                     0.0   \n",
       "---2PmXbF47D870stH1jqA                     0.0                     0.0   \n",
       "---UgP94gokyCDuB5zUssA                     0.0                     0.0   \n",
       "---r61b7EpVPkb4UVme5tA                     0.0                     0.0   \n",
       "---zemaUC8WeJeWKqS6p9Q                     0.0                     0.0   \n",
       "...                                        ...                     ...   \n",
       "-cWLKRScFMQGkq9MOzI_yw                     0.0                     0.0   \n",
       "-cWYVhfgW2UwjcFesbZbZA                     0.0                     0.0   \n",
       "-cX1cJ8fayYZi9XakiR_dg                     0.0                     0.0   \n",
       "-cX6CW0hntz6LUF-nJsOUQ                     0.0                     0.0   \n",
       "-cX9Uf8TrT4WamRqaDobhA                     0.0                     0.0   \n",
       "\n",
       "business_id             zzO2zgfqP9ANmEWt-EZFWg  zzXDi0Pdv0s84M-oQaIa_g  \n",
       "user_id                                                                 \n",
       "---1lKK3aKOuomHnwAkAow                     0.0                     0.0  \n",
       "---2PmXbF47D870stH1jqA                     0.0                     0.0  \n",
       "---UgP94gokyCDuB5zUssA                     0.0                     0.0  \n",
       "---r61b7EpVPkb4UVme5tA                     0.0                     0.0  \n",
       "---zemaUC8WeJeWKqS6p9Q                     0.0                     0.0  \n",
       "...                                        ...                     ...  \n",
       "-cWLKRScFMQGkq9MOzI_yw                     0.0                     0.0  \n",
       "-cWYVhfgW2UwjcFesbZbZA                     0.0                     0.0  \n",
       "-cX1cJ8fayYZi9XakiR_dg                     0.0                     0.0  \n",
       "-cX6CW0hntz6LUF-nJsOUQ                     0.0                     0.0  \n",
       "-cX9Uf8TrT4WamRqaDobhA                     0.0                     0.0  \n",
       "\n",
       "[12575 rows x 19719 columns]"
      ]
     },
     "execution_count": 79,
     "metadata": {},
     "output_type": "execute_result"
    }
   ],
   "source": [
    "piv_rate= dis_rate.pivot_table(index = 'user_id', columns ='business_id', values = 'stars').fillna(0)\n",
    "piv_rate"
   ]
  },
  {
   "cell_type": "code",
   "execution_count": 80,
   "metadata": {},
   "outputs": [],
   "source": [
    "bus_id = piv_rate.columns\n",
    "Names = [df_business[df_business.business_id == id_]['name'].iloc[0] for id_ in bus_id] # extract movie titles\n",
    "piv_rate.columns = Names\n",
    "\n",
    "counts = piv_rate.apply(np.count_nonzero, axis=0) # count the number of ratings for each business\n",
    "number_ratings_df = pd.DataFrame(counts).reset_index()\n",
    "number_ratings_df.columns = ['bus_name', 'numberRatings']\n",
    "\n",
    "# get the names of the 500 business with the most ratings in the df\n",
    "top = number_ratings_df.sort_values('numberRatings', ascending=False)[0:600].bus_name"
   ]
  },
  {
   "cell_type": "code",
   "execution_count": 81,
   "metadata": {},
   "outputs": [],
   "source": [
    "ratings = piv_rate[list(top)]"
   ]
  },
  {
   "cell_type": "markdown",
   "metadata": {},
   "source": [
    "## SVD"
   ]
  },
  {
   "cell_type": "code",
   "execution_count": 62,
   "metadata": {},
   "outputs": [
    {
     "name": "stdout",
     "output_type": "stream",
     "text": [
      "Shape of U: (12575, 50)\n",
      "Length of Sigma: 50\n",
      "Shape of V: (50, 773)\n"
     ]
    }
   ],
   "source": [
    "svd_model = TruncatedSVD(n_components=50, random_state=671)\n",
    "users_df_svd = svd_model.fit_transform(ratings)\n",
    "\n",
    "U = users_df_svd / svd_model.singular_values_ \n",
    "sigma = svd_model.singular_values_\n",
    "V = svd_model.components_\n",
    "\n",
    "# checks \n",
    "print(\"Shape of U:\", U.shape)\n",
    "print(\"Length of Sigma:\", len(sigma))\n",
    "print(\"Shape of V:\", V.shape)"
   ]
  },
  {
   "cell_type": "code",
   "execution_count": 63,
   "metadata": {},
   "outputs": [],
   "source": [
    "clusters = KMeans(n_clusters=10, random_state=6).fit_predict(U) # arbitrary choice of k\n",
    "clustered_users_df = pd.DataFrame(U, index = piv_rate.index)\n",
    "clustered_users_df['cluster'] = clusters # create new column with cluster membership"
   ]
  },
  {
   "cell_type": "markdown",
   "metadata": {},
   "source": [
    "## User exist in database"
   ]
  },
  {
   "cell_type": "code",
   "execution_count": 54,
   "metadata": {},
   "outputs": [],
   "source": [
    "def knn_rec(user, number):\n",
    "    cluster_no = int(clustered_users_df[clustered_users_df.index == user].cluster) \n",
    "    name = df_users[df_users.user_id ==\"---2PmXbF47D870stH1jqA\"]['name'].to_list()[0]\n",
    "    print(\"User ID:{} \\n User name:{} \\n belongs to cluster {}\".format(user,name,cluster_no))\n",
    "    similar_users = list(clustered_users_df[clustered_users_df.cluster == cluster_no].index)\n",
    "    cluster_df = ratings.loc[similar_users] \n",
    "    cluster_df[cluster_df == 0] = np.nan # vanish impact of 0\n",
    "    avg_ratings = cluster_df.mean() \n",
    "    avg_ratings_df = pd.DataFrame(avg_ratings).reset_index()\n",
    "    avg_ratings_df.columns = ['movieName', 'avgClusterRating']\n",
    "    avg_ratings_df.sort_values('avgClusterRating', ascending=False).head(10)\n",
    "    return avg_ratings_df.sort_values('avgClusterRating', ascending=False).iloc[:10,:]"
   ]
  },
  {
   "cell_type": "markdown",
   "metadata": {},
   "source": [
    "## Similarity of business"
   ]
  },
  {
   "cell_type": "code",
   "execution_count": 66,
   "metadata": {},
   "outputs": [],
   "source": [
    "bus_vec = pd.DataFrame(V.T)\n",
    "bus_vec.index = ratings.columns"
   ]
  },
  {
   "cell_type": "code",
   "execution_count": 85,
   "metadata": {},
   "outputs": [],
   "source": [
    "def euclidean(arr1, arr2):\n",
    "    res = np.linalg.norm(arr1 - arr2,ord=2)\n",
    "    return res"
   ]
  },
  {
   "cell_type": "code",
   "execution_count": 86,
   "metadata": {},
   "outputs": [],
   "source": [
    "def cosine(arr1, arr2):\n",
    "    res = np.dot(arr1,arr2)/(np.linalg.norm(arr1)* np.linalg.norm(arr2))\n",
    "    return res"
   ]
  },
  {
   "cell_type": "code",
   "execution_count": 105,
   "metadata": {},
   "outputs": [],
   "source": [
    "def calc_sim(df,method):\n",
    "    res = []\n",
    "    row , col = df.shape\n",
    "    for i in range(row):\n",
    "        arr1 = df.iloc[i,:]\n",
    "        res_row =[]\n",
    "        for j in range(row):\n",
    "            arr2 = df.iloc[j, :]\n",
    "            if method == \"Euc\":\n",
    "                dist = euclidean(arr1, arr2)\n",
    "                res_row.append(dist)\n",
    "            elif method == 'cos':\n",
    "                dist = cosine(arr1, arr2)\n",
    "                res_row.append(dist)\n",
    "        res.append(res_row)\n",
    "    res = pd.DataFrame(res, columns =df.index, index=df.index) \n",
    "    return res"
   ]
  },
  {
   "cell_type": "markdown",
   "metadata": {},
   "source": [
    "### Euclidean"
   ]
  },
  {
   "cell_type": "code",
   "execution_count": 106,
   "metadata": {},
   "outputs": [],
   "source": [
    "sim_euc = calc_sim(bus_vec,\"Euc\")"
   ]
  },
  {
   "cell_type": "code",
   "execution_count": null,
   "metadata": {},
   "outputs": [],
   "source": [
    "sim_euc"
   ]
  },
  {
   "cell_type": "markdown",
   "metadata": {},
   "source": [
    "### Cosine"
   ]
  },
  {
   "cell_type": "code",
   "execution_count": 108,
   "metadata": {},
   "outputs": [],
   "source": [
    "sim_cos = calc_sim(bus_vec,\"cos\")"
   ]
  },
  {
   "cell_type": "code",
   "execution_count": null,
   "metadata": {},
   "outputs": [],
   "source": [
    "sim_cos"
   ]
  },
  {
   "cell_type": "markdown",
   "metadata": {},
   "source": [
    "### Test\n",
    "test case:\"Hattie B’s Hot Chicken - Nashville\""
   ]
  },
  {
   "cell_type": "code",
   "execution_count": 120,
   "metadata": {},
   "outputs": [
    {
     "data": {
      "text/plain": [
       "Gaylord Opryland Resort & Convention Center    0.911544\n",
       "Five Daughters Bakery 12south                  0.918576\n",
       "The Pharmacy                                   0.919489\n",
       "Milk and Honey Nashville                       0.920842\n",
       "Puckett's Grocery & Restaurant                 0.940808\n",
       "Jeni's Splendid Ice Creams                     0.941769\n",
       "Jeni's Splendid Ice Creams                     0.941769\n",
       "Frothy Monkey                                  0.941940\n",
       "Hattie B's Hot Chicken - Melrose               0.942893\n",
       "Amerigo Italian Restaurant                     0.943560\n",
       "Name: Hattie B’s Hot Chicken - Nashville, dtype: float64"
      ]
     },
     "execution_count": 120,
     "metadata": {},
     "output_type": "execute_result"
    }
   ],
   "source": [
    "business_name = input(\"Please enter the name of business:\")\n",
    "vec_euc = sim_euc[sim_euc.index == business_name]\n",
    "vec_euc.iloc[0].sort_values(ascending=True)[1:11]"
   ]
  },
  {
   "cell_type": "code",
   "execution_count": 119,
   "metadata": {},
   "outputs": [
    {
     "data": {
      "text/plain": [
       "Mitchell Delicatessen                          0.960361\n",
       "Frothy Monkey                                  0.782917\n",
       "Gaylord Opryland Resort & Convention Center    0.751826\n",
       "Jeni's Splendid Ice Creams                     0.443022\n",
       "Jeni's Splendid Ice Creams                     0.443022\n",
       "Puckett's Grocery & Restaurant                 0.409007\n",
       "Five Daughters Bakery 12south                  0.367252\n",
       "Hattie B's Hot Chicken - Melrose               0.350186\n",
       "K-POT Korean BBQ & Hot Pot                     0.335735\n",
       "The Pharmacy                                   0.324259\n",
       "Name: Hattie B’s Hot Chicken - Nashville, dtype: float64"
      ]
     },
     "execution_count": 119,
     "metadata": {},
     "output_type": "execute_result"
    }
   ],
   "source": [
    "vec_cos = sim_cos[sim_cos.index == business_name]\n",
    "vec_cos.iloc[0].sort_values(ascending=False)[1:11]"
   ]
  },
  {
   "cell_type": "markdown",
   "metadata": {},
   "source": [
    "## Test \n",
    "---2PmXbF47D870stH1jqA"
   ]
  },
  {
   "cell_type": "code",
   "execution_count": null,
   "metadata": {},
   "outputs": [],
   "source": [
    "user = input(\"Enter a user id: \")\n",
    "if user in clustered_users_df.index:\n",
    "    knn_rec(user, 10)\n"
   ]
  },
  {
   "cell_type": "code",
   "execution_count": null,
   "metadata": {},
   "outputs": [],
   "source": []
  }
 ],
 "metadata": {
  "kernelspec": {
   "display_name": "deeplearning",
   "language": "python",
   "name": "python3"
  },
  "language_info": {
   "codemirror_mode": {
    "name": "ipython",
    "version": 3
   },
   "file_extension": ".py",
   "mimetype": "text/x-python",
   "name": "python",
   "nbconvert_exporter": "python",
   "pygments_lexer": "ipython3",
   "version": "3.10.9"
  }
 },
 "nbformat": 4,
 "nbformat_minor": 2
}
