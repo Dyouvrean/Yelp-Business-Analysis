{
 "cells": [
  {
   "cell_type": "markdown",
   "metadata": {},
   "source": [
    "SI 671 Project "
   ]
  },
  {
   "cell_type": "code",
   "execution_count": 2,
   "metadata": {},
   "outputs": [],
   "source": [
    "import pandas as pd\n",
    "import numpy as np \n",
    "import json\n",
    "business_path = \"Data/yelp_academic_dataset_business.json\"\n",
    "checkin_path = \"Data/yelp_academic_dataset_checkin.json\"\n",
    "review_path = \"Data/yelp_academic_dataset_review.json\"\n",
    "tip_path = 'Data/yelp_academic_dataset_tip.json'\n",
    "user_path = 'Data/yelp_academic_dataset_user.json'"
   ]
  },
  {
   "cell_type": "markdown",
   "metadata": {},
   "source": [
    "# load data"
   ]
  },
  {
   "cell_type": "code",
   "execution_count": 5,
   "metadata": {},
   "outputs": [],
   "source": [
    "def json_to_df(path):\n",
    "    with open(path) as data_file:\n",
    "        data = []\n",
    "        for line in data_file:\n",
    "            data.append(json.loads(line))\n",
    "    df = pd.DataFrame(data)\n",
    "    return df"
   ]
  },
  {
   "cell_type": "code",
   "execution_count": 7,
   "metadata": {},
   "outputs": [],
   "source": [
    "df_business = json_to_df(business_path)\n",
    "df_checkin = json_to_df(checkin_path)\n",
    "df_review = json_to_df(review_path)\n",
    "df_tip = json_to_df(tip_path)\n",
    "df_user = json_to_df(user_path)"
   ]
  }
 ],
 "metadata": {
  "kernelspec": {
   "display_name": "deeplearning",
   "language": "python",
   "name": "python3"
  },
  "language_info": {
   "codemirror_mode": {
    "name": "ipython",
    "version": 3
   },
   "file_extension": ".py",
   "mimetype": "text/x-python",
   "name": "python",
   "nbconvert_exporter": "python",
   "pygments_lexer": "ipython3",
   "version": "3.10.9"
  }
 },
 "nbformat": 4,
 "nbformat_minor": 2
}
