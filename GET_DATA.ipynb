{
 "cells": [
  {
   "cell_type": "markdown",
   "metadata": {},
   "source": [
    "SI 671 Project "
   ]
  },
  {
   "cell_type": "code",
   "execution_count": 18,
   "metadata": {},
   "outputs": [],
   "source": [
    "import pandas as pd\n",
    "import numpy as np \n",
    "import json\n",
    "import sqlite3\n",
    "business_path = \"Data/yelp_academic_dataset_business.json\"\n",
    "checkin_path = \"Data/yelp_academic_dataset_checkin.json\"\n",
    "review_path = \"Data/yelp_academic_dataset_review.json\"\n",
    "tip_path = 'Data/yelp_academic_dataset_tip.json'\n",
    "user_path = 'Data/yelp_academic_dataset_user.json'"
   ]
  },
  {
   "cell_type": "markdown",
   "metadata": {},
   "source": [
    "# load data"
   ]
  },
  {
   "cell_type": "code",
   "execution_count": 19,
   "metadata": {},
   "outputs": [],
   "source": [
    "def json_to_df(path):\n",
    "    with open(path) as data_file:\n",
    "        data = []\n",
    "        for line in data_file:\n",
    "            data.append(json.loads(line))\n",
    "    df = pd.DataFrame(data)\n",
    "    return df"
   ]
  },
  {
   "cell_type": "code",
   "execution_count": 20,
   "metadata": {},
   "outputs": [],
   "source": [
    "df_business = json_to_df(business_path)\n",
    "df_checkin = json_to_df(checkin_path)\n",
    "df_review = json_to_df(review_path)\n",
    "df_tip = json_to_df(tip_path)\n",
    "df_user = json_to_df(user_path)"
   ]
  },
  {
   "cell_type": "markdown",
   "metadata": {},
   "source": [
    "### check-in data"
   ]
  },
  {
   "cell_type": "code",
   "execution_count": 21,
   "metadata": {},
   "outputs": [
    {
     "data": {
      "text/plain": [
       "business_id    object\n",
       "date           object\n",
       "dtype: object"
      ]
     },
     "execution_count": 21,
     "metadata": {},
     "output_type": "execute_result"
    }
   ],
   "source": [
    "df_checkin.dtypes"
   ]
  },
  {
   "cell_type": "code",
   "execution_count": 22,
   "metadata": {},
   "outputs": [],
   "source": [
    "convert_dict = {'business_id': \"string\",\n",
    "                'date':\"string\"\n",
    "                }\n",
    " \n",
    "df_checkin = df_checkin.astype(convert_dict)"
   ]
  },
  {
   "cell_type": "code",
   "execution_count": 23,
   "metadata": {},
   "outputs": [],
   "source": [
    "check_in_schema=\"\"\"\n",
    "DROP TABLE IF EXISTS \"checkin\";\n",
    "\n",
    "CREATE TABLE \"checkin\" (\n",
    "    \"business_id\" VARCHAR PRIMARY KEY NOT NULL,\n",
    "    \"date\" VARCHAR\n",
    "    );\n",
    "\"\"\""
   ]
  },
  {
   "cell_type": "markdown",
   "metadata": {},
   "source": [
    "### business data"
   ]
  },
  {
   "cell_type": "code",
   "execution_count": 24,
   "metadata": {},
   "outputs": [
    {
     "data": {
      "text/plain": [
       "business_id      object\n",
       "name             object\n",
       "address          object\n",
       "city             object\n",
       "state            object\n",
       "postal_code      object\n",
       "latitude        float64\n",
       "longitude       float64\n",
       "stars           float64\n",
       "review_count      int64\n",
       "is_open           int64\n",
       "attributes       object\n",
       "categories       object\n",
       "hours            object\n",
       "dtype: object"
      ]
     },
     "execution_count": 24,
     "metadata": {},
     "output_type": "execute_result"
    }
   ],
   "source": [
    "df_business.dtypes"
   ]
  },
  {
   "cell_type": "code",
   "execution_count": 25,
   "metadata": {},
   "outputs": [],
   "source": [
    "convert_dict = {'business_id': \"string\",\n",
    "                'name': \"string\",\n",
    "                'address':\"string\",\n",
    "                'city':\"string\",\n",
    "                'state' : \"string\",\n",
    "                'postal_code' :\"string\",\n",
    "                'attributes' :\"string\",\n",
    "                'categories':\"string\",\n",
    "                'hours' :\"string\"\n",
    "                }\n",
    " \n",
    "df_business = df_business.astype(convert_dict)"
   ]
  },
  {
   "cell_type": "code",
   "execution_count": 26,
   "metadata": {},
   "outputs": [],
   "source": [
    "businesses_schema=\"\"\"\n",
    "DROP TABLE IF EXISTS \"business\";\n",
    "\n",
    "CREATE TABLE \"business\" (\n",
    "    \"business_id\" VARCHAR PRIMARY KEY NOT NULL,\n",
    "    \"name\" VARCHAR,\n",
    "    \"address\" VARCHAR,\n",
    "    \"city\" VARCHAR,\n",
    "    \"state\" VARCHAR,\n",
    "    \"postal_code\" VARCHAR,\n",
    "    \"latitude\" FLOAT,\n",
    "    \"longitude\" FLOAT,\n",
    "    \"stars\" FLOAT,\n",
    "    \"review_count\" INTEGER,\n",
    "    \"is_open\" BOOLEAN,\n",
    "    \"attributes\" VARCHAR,\n",
    "    \"categories\" VARCHAR,\n",
    "    \"hours\" VARCHAR\n",
    "    );\n",
    "\"\"\""
   ]
  },
  {
   "cell_type": "markdown",
   "metadata": {},
   "source": [
    "### user data"
   ]
  },
  {
   "cell_type": "code",
   "execution_count": 27,
   "metadata": {},
   "outputs": [
    {
     "data": {
      "text/plain": [
       "user_id                object\n",
       "name                   object\n",
       "review_count            int64\n",
       "yelping_since          object\n",
       "useful                  int64\n",
       "funny                   int64\n",
       "cool                    int64\n",
       "elite                  object\n",
       "friends                object\n",
       "fans                    int64\n",
       "average_stars         float64\n",
       "compliment_hot          int64\n",
       "compliment_more         int64\n",
       "compliment_profile      int64\n",
       "compliment_cute         int64\n",
       "compliment_list         int64\n",
       "compliment_note         int64\n",
       "compliment_plain        int64\n",
       "compliment_cool         int64\n",
       "compliment_funny        int64\n",
       "compliment_writer       int64\n",
       "compliment_photos       int64\n",
       "dtype: object"
      ]
     },
     "execution_count": 27,
     "metadata": {},
     "output_type": "execute_result"
    }
   ],
   "source": [
    "df_user.dtypes"
   ]
  },
  {
   "cell_type": "code",
   "execution_count": 28,
   "metadata": {},
   "outputs": [],
   "source": [
    "convert_dict = {'user_id': \"string\",\n",
    "                'name':\"string\",\n",
    "                'yelping_since':\"string\",\n",
    "                'elite':\"string\",\n",
    "                'friends':\"string\",\n",
    "                }\n",
    " \n",
    "df_user = df_user.astype(convert_dict)"
   ]
  },
  {
   "cell_type": "code",
   "execution_count": 29,
   "metadata": {},
   "outputs": [],
   "source": [
    "users_schema = \"\"\"\n",
    "DROP TABLE IF EXISTS \"users\";\n",
    "\n",
    "CREATE TABLE \"users\" (\n",
    "    \"user_id\" VARCHAR PRIMARY KEY NOT NULL,\n",
    "    \"name\" VARCHAR,\n",
    "    \"review_count\" INTEGER,\n",
    "    \"yelping_since\" TIMESTAMP,\n",
    "    \"useful\" INTEGER,\n",
    "    \"funny\" INTEGER,\n",
    "    \"cool\" INTEGER,\n",
    "    \"elite\" VARCHAR,\n",
    "    \"friends\" VARCHAR,\n",
    "    \"fans\" INTEGER,\n",
    "    \"average_stars\" FLOAT,\n",
    "    \"compliment_hot\" INTEGER,\n",
    "    \"compliment_more\" INTEGER, \n",
    "    \"compliment_profile\" INTEGER,\n",
    "    \"compliment_cute\" INTEGER,\n",
    "    \"compliment_list\" INTEGER,\n",
    "    \"compliment_note\" INTEGER,\n",
    "    \"compliment_plain\" INTEGER,\n",
    "    \"compliment_cool\" INTEGER,\n",
    "    \"compliment_funny\" INTEGER,\n",
    "    \"compliment_writer\" INTEGER,\n",
    "    \"compliment_photos\" INTEGER\n",
    ");\n",
    "\"\"\""
   ]
  },
  {
   "cell_type": "markdown",
   "metadata": {},
   "source": [
    "### reviews"
   ]
  },
  {
   "cell_type": "code",
   "execution_count": 30,
   "metadata": {},
   "outputs": [
    {
     "data": {
      "text/plain": [
       "review_id       object\n",
       "user_id         object\n",
       "business_id     object\n",
       "stars          float64\n",
       "useful           int64\n",
       "funny            int64\n",
       "cool             int64\n",
       "text            object\n",
       "date            object\n",
       "dtype: object"
      ]
     },
     "execution_count": 30,
     "metadata": {},
     "output_type": "execute_result"
    }
   ],
   "source": [
    "df_review.dtypes"
   ]
  },
  {
   "cell_type": "code",
   "execution_count": 31,
   "metadata": {},
   "outputs": [],
   "source": [
    "convert_dict = {'review_id': \"string\",\n",
    "                'user_id':\"string\",\n",
    "                'business_id':\"string\",\n",
    "                'text':\"string\",\n",
    "                'date':\"string\",\n",
    "                }\n",
    " \n",
    "df_review = df_review.astype(convert_dict)"
   ]
  },
  {
   "cell_type": "code",
   "execution_count": 32,
   "metadata": {},
   "outputs": [],
   "source": [
    "reviews_schema = \"\"\"\n",
    "DROP TABLE IF EXISTS \"reviews\";\n",
    "\n",
    "CREATE TABLE \"reviews\" (\n",
    "    \"review_id\" VARCHAR PRIMARY KEY,\n",
    "    \"user_id\" VARCHAR,\n",
    "    \"business_id\" VARCHAR,\n",
    "    \"stars\" FLOAT,\n",
    "    \"useful\" INTEGER,\n",
    "    \"funny\" INTEGER,\n",
    "    \"cool\" INTEGER,\n",
    "    \"text\"  VARCHAR,\n",
    "    \"date\" VARCHAR,\n",
    "    \n",
    "    \n",
    "    FOREIGN KEY (user_id) REFERENCES users(user_id),\n",
    "    FOREIGN KEY (business_id) REFERENCES businesses(business_id)\n",
    ");\n",
    "\"\"\""
   ]
  },
  {
   "cell_type": "markdown",
   "metadata": {},
   "source": [
    "### tips"
   ]
  },
  {
   "cell_type": "code",
   "execution_count": 33,
   "metadata": {},
   "outputs": [
    {
     "data": {
      "text/plain": [
       "user_id             object\n",
       "business_id         object\n",
       "text                object\n",
       "date                object\n",
       "compliment_count     int64\n",
       "dtype: object"
      ]
     },
     "execution_count": 33,
     "metadata": {},
     "output_type": "execute_result"
    }
   ],
   "source": [
    "df_tip.dtypes"
   ]
  },
  {
   "cell_type": "code",
   "execution_count": 34,
   "metadata": {},
   "outputs": [],
   "source": [
    "convert_dict = {'user_id':\"string\",\n",
    "                'business_id':\"string\",\n",
    "                'text':\"string\",\n",
    "                'date':\"string\",\n",
    "                }\n",
    " \n",
    "df_tip = df_tip.astype(convert_dict)"
   ]
  },
  {
   "cell_type": "code",
   "execution_count": 35,
   "metadata": {},
   "outputs": [],
   "source": [
    "tips_schema = \"\"\"\n",
    "DROP TABLE IF EXISTS \"tips\";\n",
    "\n",
    "CREATE TABLE \"tips\" (\n",
    "    \"user_id\" VARCHAR,\n",
    "    \"business_id\" VARCHAR,\n",
    "    \"text\"  VARCHAR,\n",
    "    \"date\" VARCHAR,\n",
    "    \"compliment_count\" INTEGER,\n",
    "    \n",
    "    FOREIGN KEY (user_id) REFERENCES users(user_id),\n",
    "    FOREIGN KEY (business_id) REFERENCES businesses(business_id)\n",
    ");\n",
    "\"\"\""
   ]
  },
  {
   "cell_type": "code",
   "execution_count": 36,
   "metadata": {},
   "outputs": [],
   "source": [
    "conn = sqlite3.connect('yelp_dataset_business.db') \n",
    "c = conn.cursor()\n",
    "c.executescript(businesses_schema)\n",
    "conn.commit()"
   ]
  },
  {
   "cell_type": "code",
   "execution_count": 37,
   "metadata": {},
   "outputs": [],
   "source": [
    "df_business.to_sql(name='business', con=conn, if_exists='append',index=False)\n",
    "conn.close()"
   ]
  },
  {
   "cell_type": "code",
   "execution_count": 38,
   "metadata": {},
   "outputs": [],
   "source": [
    "conn = sqlite3.connect('yelp_dataset_checkin.db') \n",
    "c = conn.cursor()\n",
    "c.executescript(check_in_schema)\n",
    "conn.commit()"
   ]
  },
  {
   "cell_type": "code",
   "execution_count": 39,
   "metadata": {},
   "outputs": [],
   "source": [
    "df_checkin.to_sql(name='checkin', con=conn, if_exists='append',index=False)\n",
    "conn.close()"
   ]
  },
  {
   "cell_type": "code",
   "execution_count": 40,
   "metadata": {},
   "outputs": [],
   "source": [
    "conn = sqlite3.connect('yelp_dataset_users.db') \n",
    "c = conn.cursor()\n",
    "c.executescript(users_schema)\n",
    "conn.commit()"
   ]
  },
  {
   "cell_type": "code",
   "execution_count": 41,
   "metadata": {},
   "outputs": [],
   "source": [
    "df_user.to_sql(name='users', con=conn, if_exists='append',index=False)\n",
    "conn.close()"
   ]
  },
  {
   "cell_type": "code",
   "execution_count": 42,
   "metadata": {},
   "outputs": [],
   "source": [
    "conn = sqlite3.connect('yelp_dataset_reviews.db') \n",
    "c = conn.cursor()\n",
    "c.executescript(reviews_schema)\n",
    "conn.commit()"
   ]
  },
  {
   "cell_type": "code",
   "execution_count": 43,
   "metadata": {},
   "outputs": [],
   "source": [
    "df_review.to_sql(name='reviews', con=conn, if_exists='append',index=False)\n",
    "conn.close()"
   ]
  },
  {
   "cell_type": "code",
   "execution_count": 44,
   "metadata": {},
   "outputs": [],
   "source": [
    "conn = sqlite3.connect('yelp_dataset_tips.db') \n",
    "c = conn.cursor()\n",
    "c.executescript(tips_schema)\n",
    "conn.commit()"
   ]
  },
  {
   "cell_type": "code",
   "execution_count": 45,
   "metadata": {},
   "outputs": [],
   "source": [
    "df_tip.to_sql(name='tips', con=conn, if_exists='append',index=False)\n",
    "conn.close()"
   ]
  },
  {
   "cell_type": "code",
   "execution_count": 50,
   "metadata": {},
   "outputs": [],
   "source": [
    "conn.close()"
   ]
  },
  {
   "cell_type": "code",
   "execution_count": 49,
   "metadata": {},
   "outputs": [
    {
     "data": {
      "text/plain": [
       "(908915, 5)"
      ]
     },
     "execution_count": 49,
     "metadata": {},
     "output_type": "execute_result"
    }
   ],
   "source": [
    "conn = sqlite3.connect('yelp_dataset_tips.db') \n",
    "new = pd.read_sql(\"\"\"SELECT * FROM tips\"\"\",conn )\n",
    "new.shape"
   ]
  }
 ],
 "metadata": {
  "kernelspec": {
   "display_name": "deeplearning",
   "language": "python",
   "name": "python3"
  },
  "language_info": {
   "codemirror_mode": {
    "name": "ipython",
    "version": 3
   },
   "file_extension": ".py",
   "mimetype": "text/x-python",
   "name": "python",
   "nbconvert_exporter": "python",
   "pygments_lexer": "ipython3",
   "version": "3.10.9"
  }
 },
 "nbformat": 4,
 "nbformat_minor": 2
}
